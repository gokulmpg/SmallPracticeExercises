{
  "cells": [
    {
      "cell_type": "markdown",
      "metadata": {
        "id": "view-in-github",
        "colab_type": "text"
      },
      "source": [
        "<a href=\"https://colab.research.google.com/github/gokulmpg/SmallPracticeExercises/blob/main/DictionariesA2Z.ipynb\" target=\"_parent\"><img src=\"https://colab.research.google.com/assets/colab-badge.svg\" alt=\"Open In Colab\"/></a>"
      ]
    },
    {
      "cell_type": "markdown",
      "metadata": {
        "id": "1f88614d"
      },
      "source": [
        "<a target=\"_blank\" href=\"https://colab.research.google.com/github/lukebarousse/Python_Data_Analytics_Course/blob/main/1_Basics/09_Dictionaries.ipynb\">\n",
        "  <img src=\"https://colab.research.google.com/assets/colab-badge.svg\" alt=\"Open In Colab\"/>\n",
        "</a>"
      ]
    },
    {
      "cell_type": "markdown",
      "metadata": {
        "id": "jMyH89VS5H7L"
      },
      "source": [
        "# Dictionaries\n",
        "\n",
        "\n",
        "\n"
      ]
    },
    {
      "cell_type": "markdown",
      "metadata": {
        "id": "EE-5iEgVYXqf"
      },
      "source": [
        "Dictionary        \n",
        " `{'key1': value1, 'key2': value2}`                         \n",
        " Unordered                            \n",
        " Yes (by key)    \n",
        " Values can be duplicated, keys cannot\n",
        " Mutable                         \n",
        " For key-value pairs          "
      ]
    },
    {
      "cell_type": "markdown",
      "metadata": {
        "id": "EbnEUhnwxYdG"
      },
      "source": [
        "## Notes\n",
        "\n",
        "* Used to store data values in *key:value* pairs.\n",
        "* It is:\n",
        "  * ordered (as of Python version 3.7)\n",
        "  * changeable\n",
        "  * Doesn't allow duplicates\n",
        "* Created using `{` and `}` and has keys and values.\n",
        "\n",
        "## Importance\n",
        "\n",
        "Useful for labeling data or creating pandas DataFrames (typically a .CSV file) with named columns, enhancing data readability."
      ]
    },
    {
      "cell_type": "code",
      "execution_count": 6,
      "metadata": {
        "colab": {
          "base_uri": "https://localhost:8080/"
        },
        "id": "wynfsas1WZu8",
        "outputId": "237278f5-08c7-4964-dd1c-5628ef0bd568"
      },
      "outputs": [
        {
          "output_type": "execute_result",
          "data": {
            "text/plain": [
              "{0.03: 'postgresql', 3: 'python', 'library': 'pandas'}"
            ]
          },
          "metadata": {},
          "execution_count": 6
        }
      ],
      "source": [
        "# Define a dictionary of data science skills\n",
        "job_type_skills = {\n",
        "    0.03: 'postgresql',\n",
        "    3 : 'python',\n",
        "    'library': 'pandas'\n",
        "}\n",
        "\n",
        "job_type_skills"
      ]
    },
    {
      "cell_type": "markdown",
      "source": [
        "2. How can you access a value from a dictionary?\n"
      ],
      "metadata": {
        "id": "bubC1CGgb1Yb"
      }
    },
    {
      "cell_type": "code",
      "source": [
        "a = {'name' :  'Alice' ,  'age' : '25'}\n",
        "print(a['name'])"
      ],
      "metadata": {
        "colab": {
          "base_uri": "https://localhost:8080/"
        },
        "id": "2HOLeDMrbz3o",
        "outputId": "8ab7766a-83e2-464e-e96a-ca4b5c3f60a8"
      },
      "execution_count": 17,
      "outputs": [
        {
          "output_type": "stream",
          "name": "stdout",
          "text": [
            "Alice\n"
          ]
        }
      ]
    },
    {
      "cell_type": "markdown",
      "source": [
        "How can you avoid a KeyError while accessing a dictionary?"
      ],
      "metadata": {
        "id": "YSMMA5omcCOb"
      }
    },
    {
      "cell_type": "code",
      "source": [
        "a = {'name': 'Kohli'}\n",
        "\n",
        "print(a.get('age'))\n",
        "print(a.get('age', 'Not Available'))"
      ],
      "metadata": {
        "colab": {
          "base_uri": "https://localhost:8080/"
        },
        "id": "4lOq5fNOcD7r",
        "outputId": "9be5cdfe-6470-4612-89b3-9426bae9ea0c"
      },
      "execution_count": 18,
      "outputs": [
        {
          "output_type": "stream",
          "name": "stdout",
          "text": [
            "None\n",
            "Not Available\n"
          ]
        }
      ]
    },
    {
      "cell_type": "markdown",
      "source": [],
      "metadata": {
        "id": "CdMvukvWcDl2"
      }
    },
    {
      "cell_type": "markdown",
      "metadata": {
        "id": "jnvnh2t_9-FY"
      },
      "source": [
        "## Get Items\n",
        "\n",
        "To get an item in the dictionary there are two methods:"
      ]
    },
    {
      "cell_type": "markdown",
      "metadata": {
        "id": "ZPLBNpp9YXql"
      },
      "source": [
        "### Keys"
      ]
    },
    {
      "cell_type": "markdown",
      "metadata": {
        "id": "7lfLhrTzYXql"
      },
      "source": [
        "#### Get Key\n",
        "\n",
        "Refer to its key name inside square brackets."
      ]
    },
    {
      "cell_type": "code",
      "execution_count": 11,
      "metadata": {
        "colab": {
          "base_uri": "https://localhost:8080/",
          "height": 36
        },
        "id": "m5mjrDqU-CKX",
        "outputId": "08331626-562a-4ae6-91a5-3e8cab26a6a1"
      },
      "outputs": [
        {
          "output_type": "execute_result",
          "data": {
            "text/plain": [
              "'python'"
            ],
            "application/vnd.google.colaboratory.intrinsic+json": {
              "type": "string"
            }
          },
          "metadata": {},
          "execution_count": 11
        }
      ],
      "source": [
        "# Define a dictionary of data science skills\n",
        "job_type_skills = {\n",
        "    'database': 'postgresql',\n",
        "    'language': 'python',\n",
        "    'library': 'pandas'\n",
        "}\n",
        "\n",
        "job_type_skills['language']"
      ]
    },
    {
      "cell_type": "markdown",
      "metadata": {
        "id": "TC7vq5H-YXqm"
      },
      "source": [
        "How can you access a value from a dictionary using `get()` to retrieve the value for a given key."
      ]
    },
    {
      "cell_type": "code",
      "execution_count": 21,
      "metadata": {
        "colab": {
          "base_uri": "https://localhost:8080/",
          "height": 36
        },
        "id": "RnWSPcDxYXqn",
        "outputId": "d3056570-f0c3-49dc-e7f9-870ba91edc89"
      },
      "outputs": [
        {
          "output_type": "execute_result",
          "data": {
            "text/plain": [
              "'python'"
            ],
            "application/vnd.google.colaboratory.intrinsic+json": {
              "type": "string"
            }
          },
          "metadata": {},
          "execution_count": 21
        }
      ],
      "source": [
        "job_type_skills.get('language')"
      ]
    },
    {
      "cell_type": "markdown",
      "source": [
        "How do you get all the keys, values, or items in a dictionary?"
      ],
      "metadata": {
        "id": "4RgfYmv_cniq"
      }
    },
    {
      "cell_type": "markdown",
      "metadata": {
        "id": "Y6u32JVbYXqn"
      },
      "source": [
        "If you want to see all the keys in the dictionary use `keys()`."
      ]
    },
    {
      "cell_type": "code",
      "execution_count": 22,
      "metadata": {
        "colab": {
          "base_uri": "https://localhost:8080/"
        },
        "id": "cMsZFzO0YXqn",
        "outputId": "41171daa-39ac-40af-9667-1728813493b8"
      },
      "outputs": [
        {
          "output_type": "execute_result",
          "data": {
            "text/plain": [
              "dict_keys(['database', 'language', 'cloud', 'version_control'])"
            ]
          },
          "metadata": {},
          "execution_count": 22
        }
      ],
      "source": [
        "job_type_skills.keys()\n"
      ]
    },
    {
      "cell_type": "markdown",
      "metadata": {
        "id": "3KaI81wrYXqo"
      },
      "source": [
        "If the key doesn't exist, you can specify a default value to return instead."
      ]
    },
    {
      "cell_type": "code",
      "execution_count": 23,
      "metadata": {
        "colab": {
          "base_uri": "https://localhost:8080/",
          "height": 36
        },
        "id": "iydo_AavYXqo",
        "outputId": "f5e2aa5e-4f1c-4a24-c6ec-9f87091a45ac"
      },
      "outputs": [
        {
          "output_type": "execute_result",
          "data": {
            "text/plain": [
              "'not found'"
            ],
            "application/vnd.google.colaboratory.intrinsic+json": {
              "type": "string"
            }
          },
          "metadata": {},
          "execution_count": 23
        }
      ],
      "source": [
        "job_type_skills.get('analytics', 'not found')"
      ]
    },
    {
      "cell_type": "markdown",
      "metadata": {
        "id": "_Wsm5UJvYXqo"
      },
      "source": [
        "\n",
        "If you want to see all the values in the dictionary use `values()`."
      ]
    },
    {
      "cell_type": "code",
      "execution_count": 24,
      "metadata": {
        "colab": {
          "base_uri": "https://localhost:8080/"
        },
        "id": "ICbVA5cMYXqp",
        "outputId": "dbbf7f9a-3a87-4cdc-e964-32a97a7b4b2f"
      },
      "outputs": [
        {
          "output_type": "execute_result",
          "data": {
            "text/plain": [
              "dict_values(['postgresql', 'python', 'google cloud', 'git'])"
            ]
          },
          "metadata": {},
          "execution_count": 24
        }
      ],
      "source": [
        "job_type_skills.values()\n"
      ]
    },
    {
      "cell_type": "markdown",
      "metadata": {
        "id": "LeTexwwNYXqp"
      },
      "source": [
        "To return the dictonary's key-value pairs."
      ]
    },
    {
      "cell_type": "code",
      "execution_count": 25,
      "metadata": {
        "colab": {
          "base_uri": "https://localhost:8080/"
        },
        "id": "TDwM_UOhYXqq",
        "outputId": "13626812-1203-49fa-ce2c-bc03346c5340"
      },
      "outputs": [
        {
          "output_type": "execute_result",
          "data": {
            "text/plain": [
              "dict_items([('database', 'postgresql'), ('language', 'python'), ('cloud', 'google cloud'), ('version_control', 'git')])"
            ]
          },
          "metadata": {},
          "execution_count": 25
        }
      ],
      "source": [
        "job_type_skills.items()"
      ]
    },
    {
      "cell_type": "markdown",
      "metadata": {
        "id": "kE2BG78UYXqq"
      },
      "source": [
        "How do you remove a key-value pair from a dictionary `.pop()`."
      ]
    },
    {
      "cell_type": "code",
      "execution_count": 26,
      "metadata": {
        "colab": {
          "base_uri": "https://localhost:8080/",
          "height": 158
        },
        "id": "N9d8MLF-YXqr",
        "outputId": "a493fdd4-477b-41c4-dfc9-56371f0d7e46"
      },
      "outputs": [
        {
          "output_type": "error",
          "ename": "KeyError",
          "evalue": "'library'",
          "traceback": [
            "\u001b[0;31m---------------------------------------------------------------------------\u001b[0m",
            "\u001b[0;31mKeyError\u001b[0m                                  Traceback (most recent call last)",
            "\u001b[0;32m<ipython-input-26-1c0eeb9030e6>\u001b[0m in \u001b[0;36m<cell line: 0>\u001b[0;34m()\u001b[0m\n\u001b[0;32m----> 1\u001b[0;31m \u001b[0mjob_type_skills\u001b[0m\u001b[0;34m.\u001b[0m\u001b[0mpop\u001b[0m\u001b[0;34m(\u001b[0m\u001b[0;34m'library'\u001b[0m\u001b[0;34m)\u001b[0m\u001b[0;34m\u001b[0m\u001b[0;34m\u001b[0m\u001b[0m\n\u001b[0m\u001b[1;32m      2\u001b[0m \u001b[0mjob_type_skills\u001b[0m\u001b[0;34m\u001b[0m\u001b[0;34m\u001b[0m\u001b[0m\n",
            "\u001b[0;31mKeyError\u001b[0m: 'library'"
          ]
        }
      ],
      "source": [
        "job_type_skills.pop('library')\n",
        "job_type_skills"
      ]
    },
    {
      "cell_type": "markdown",
      "metadata": {
        "id": "HO6scXU8DfcI"
      },
      "source": [
        "How do you add or update a key-value pair in a dictionary?"
      ]
    },
    {
      "cell_type": "markdown",
      "metadata": {
        "id": "ZSMhTF_hYXqs"
      },
      "source": [
        " assigns a value to a new or existing key directly."
      ]
    },
    {
      "cell_type": "code",
      "execution_count": 27,
      "metadata": {
        "colab": {
          "base_uri": "https://localhost:8080/"
        },
        "id": "a_cSJVNxYXqs",
        "outputId": "a406ec08-3db4-4248-fd91-3f796b95d181"
      },
      "outputs": [
        {
          "output_type": "execute_result",
          "data": {
            "text/plain": [
              "{'database': 'postgresql',\n",
              " 'language': 'python',\n",
              " 'cloud': 'google cloud',\n",
              " 'version_control': 'git',\n",
              " 'framework': 'flask'}"
            ]
          },
          "metadata": {},
          "execution_count": 27
        }
      ],
      "source": [
        "# Direct assignment\n",
        "job_type_skills['framework'] = 'flask'\n",
        "\n",
        "# Return dictionary\n",
        "job_type_skills"
      ]
    },
    {
      "cell_type": "markdown",
      "metadata": {
        "id": "7GaRo8HCYXqs"
      },
      "source": [
        " `update()` method which can add multiple items at once."
      ]
    },
    {
      "cell_type": "code",
      "execution_count": 19,
      "metadata": {
        "colab": {
          "base_uri": "https://localhost:8080/"
        },
        "id": "jRTTOC7YYXqt",
        "outputId": "34d10ec9-3e60-4da2-889d-0c6fdfe57e4b"
      },
      "outputs": [
        {
          "output_type": "execute_result",
          "data": {
            "text/plain": [
              "{'database': 'postgresql',\n",
              " 'language': 'python',\n",
              " 'cloud': 'google cloud',\n",
              " 'version_control': 'git'}"
            ]
          },
          "metadata": {},
          "execution_count": 19
        }
      ],
      "source": [
        "# Update\n",
        "job_type_skills.update({'cloud': 'google cloud', 'version_control': 'git'})\n",
        "\n",
        "# Return dictionary\n",
        "job_type_skills"
      ]
    },
    {
      "cell_type": "markdown",
      "metadata": {
        "id": "h0sQFXGuYXqt"
      },
      "source": [
        "This is the correct code ✅."
      ]
    },
    {
      "cell_type": "code",
      "execution_count": 29,
      "metadata": {
        "colab": {
          "base_uri": "https://localhost:8080/"
        },
        "id": "qAD0C0vUYXqu",
        "outputId": "abc65f19-b009-4f65-a242-24bccaa95914"
      },
      "outputs": [
        {
          "output_type": "execute_result",
          "data": {
            "text/plain": [
              "{'database': 'postgresql',\n",
              " 'language': ['python', 'r'],\n",
              " 'cloud': 'google cloud',\n",
              " 'version_control': 'git',\n",
              " 'framework': 'flask'}"
            ]
          },
          "metadata": {},
          "execution_count": 29
        }
      ],
      "source": [
        "# Update\n",
        "job_type_skills.update({'cloud': 'google cloud', 'version_control': 'git'})\n",
        "\n",
        "# Return dictionary\n",
        "job_type_skills"
      ]
    },
    {
      "cell_type": "markdown",
      "metadata": {
        "id": "sMH_r8VbV2Vt"
      },
      "source": [
        "How can you have lists within dictionaries."
      ]
    },
    {
      "cell_type": "code",
      "execution_count": 28,
      "metadata": {
        "colab": {
          "base_uri": "https://localhost:8080/"
        },
        "id": "w-ogcGHsV7Ii",
        "outputId": "4fa3b4c2-f72e-4f57-fcb5-a00b0977111b"
      },
      "outputs": [
        {
          "output_type": "execute_result",
          "data": {
            "text/plain": [
              "{'database': 'postgresql',\n",
              " 'language': ['python', 'r'],\n",
              " 'cloud': 'google cloud',\n",
              " 'version_control': 'git',\n",
              " 'framework': 'flask'}"
            ]
          },
          "metadata": {},
          "execution_count": 28
        }
      ],
      "source": [
        "# Define a dictionary of data science skills\n",
        "\n",
        "job_type_skills.update({'language': ['python', 'r']})\n",
        "\n",
        "job_type_skills"
      ]
    },
    {
      "cell_type": "code",
      "source": [],
      "metadata": {
        "id": "7x3rdLxOdM04"
      },
      "execution_count": null,
      "outputs": []
    }
  ],
  "metadata": {
    "colab": {
      "provenance": [],
      "include_colab_link": true
    },
    "kernelspec": {
      "display_name": "Python 3",
      "name": "python3"
    },
    "language_info": {
      "codemirror_mode": {
        "name": "ipython",
        "version": 3
      },
      "file_extension": ".py",
      "mimetype": "text/x-python",
      "name": "python",
      "nbconvert_exporter": "python",
      "pygments_lexer": "ipython3",
      "version": "3.9.19"
    }
  },
  "nbformat": 4,
  "nbformat_minor": 0
}