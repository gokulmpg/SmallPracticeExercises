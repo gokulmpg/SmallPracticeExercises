{
 "cells": [
  {
   "cell_type": "code",
   "execution_count": 1,
   "id": "5b9b84d0",
   "metadata": {
    "_cell_guid": "b1076dfc-b9ad-4769-8c92-a6c4dae69d19",
    "_uuid": "8f2839f25d086af736a60e9eeb907d3b93b6e0e5",
    "execution": {
     "iopub.execute_input": "2023-06-22T08:39:24.526035Z",
     "iopub.status.busy": "2023-06-22T08:39:24.525603Z",
     "iopub.status.idle": "2023-06-22T08:39:24.543464Z",
     "shell.execute_reply": "2023-06-22T08:39:24.541848Z"
    },
    "papermill": {
     "duration": 0.028566,
     "end_time": "2023-06-22T08:39:24.547903",
     "exception": false,
     "start_time": "2023-06-22T08:39:24.519337",
     "status": "completed"
    },
    "tags": []
   },
   "outputs": [
    {
     "name": "stdout",
     "output_type": "stream",
     "text": [
      "/kaggle/input/healthcare/healthcare-coverage.csv\n",
      "/kaggle/input/healthcare/healthcare-spending.csv\n"
     ]
    }
   ],
   "source": [
    "# This Python 3 environment comes with many helpful analytics libraries installed\n",
    "# It is defined by the kaggle/python Docker image: https://github.com/kaggle/docker-python\n",
    "# For example, here's several helpful packages to load\n",
    "\n",
    "import numpy as np # linear algebra\n",
    "import pandas as pd # data processing, CSV file I/O (e.g. pd.read_csv)\n",
    "\n",
    "# Input data files are available in the read-only \"../input/\" directory\n",
    "# For example, running this (by clicking run or pressing Shift+Enter) will list all files under the input directory\n",
    "\n",
    "import os\n",
    "for dirname, _, filenames in os.walk('/kaggle/input'):\n",
    "    for filename in filenames:\n",
    "        print(os.path.join(dirname, filename))\n",
    "\n",
    "# You can write up to 20GB to the current directory (/kaggle/working/) that gets preserved as output when you create a version using \"Save & Run All\" \n",
    "# You can also write temporary files to /kaggle/temp/, but they won't be saved outside of the current session"
   ]
  },
  {
   "cell_type": "code",
   "execution_count": 2,
   "id": "25b0b91a",
   "metadata": {
    "execution": {
     "iopub.execute_input": "2023-06-22T08:39:24.557938Z",
     "iopub.status.busy": "2023-06-22T08:39:24.557224Z",
     "iopub.status.idle": "2023-06-22T08:39:24.577806Z",
     "shell.execute_reply": "2023-06-22T08:39:24.576477Z"
    },
    "papermill": {
     "duration": 0.028847,
     "end_time": "2023-06-22T08:39:24.580878",
     "exception": false,
     "start_time": "2023-06-22T08:39:24.552031",
     "status": "completed"
    },
    "tags": []
   },
   "outputs": [],
   "source": [
    "healthcare = pd.read_csv(\"../input/healthcare/healthcare-spending.csv\", on_bad_lines='skip')"
   ]
  },
  {
   "cell_type": "code",
   "execution_count": 3,
   "id": "c984eaf2",
   "metadata": {
    "execution": {
     "iopub.execute_input": "2023-06-22T08:39:24.590245Z",
     "iopub.status.busy": "2023-06-22T08:39:24.589807Z",
     "iopub.status.idle": "2023-06-22T08:39:24.599732Z",
     "shell.execute_reply": "2023-06-22T08:39:24.598248Z"
    },
    "papermill": {
     "duration": 0.018442,
     "end_time": "2023-06-22T08:39:24.603124",
     "exception": false,
     "start_time": "2023-06-22T08:39:24.584682",
     "status": "completed"
    },
    "tags": []
   },
   "outputs": [],
   "source": [
    "healthcare_c = pd.read_csv(\"../input/healthcare/healthcare-coverage.csv\", on_bad_lines='skip')"
   ]
  },
  {
   "cell_type": "code",
   "execution_count": 4,
   "id": "876957de",
   "metadata": {
    "execution": {
     "iopub.execute_input": "2023-06-22T08:39:24.612719Z",
     "iopub.status.busy": "2023-06-22T08:39:24.612312Z",
     "iopub.status.idle": "2023-06-22T08:39:24.643798Z",
     "shell.execute_reply": "2023-06-22T08:39:24.642513Z"
    },
    "papermill": {
     "duration": 0.039753,
     "end_time": "2023-06-22T08:39:24.646774",
     "exception": false,
     "start_time": "2023-06-22T08:39:24.607021",
     "status": "completed"
    },
    "tags": []
   },
   "outputs": [
    {
     "data": {
      "text/html": [
       "<div>\n",
       "<style scoped>\n",
       "    .dataframe tbody tr th:only-of-type {\n",
       "        vertical-align: middle;\n",
       "    }\n",
       "\n",
       "    .dataframe tbody tr th {\n",
       "        vertical-align: top;\n",
       "    }\n",
       "\n",
       "    .dataframe thead th {\n",
       "        text-align: right;\n",
       "    }\n",
       "</style>\n",
       "<table border=\"1\" class=\"dataframe\">\n",
       "  <thead>\n",
       "    <tr style=\"text-align: right;\">\n",
       "      <th></th>\n",
       "      <th>Title: Health Insurance Coverage of the Total Population | The Henry J. Kaiser Family Foundation</th>\n",
       "    </tr>\n",
       "  </thead>\n",
       "  <tbody>\n",
       "    <tr>\n",
       "      <th>0</th>\n",
       "      <td>Timeframe: 2013 - 2016</td>\n",
       "    </tr>\n",
       "    <tr>\n",
       "      <th>1</th>\n",
       "      <td>Notes</td>\n",
       "    </tr>\n",
       "    <tr>\n",
       "      <th>2</th>\n",
       "      <td>The majority of our health coverage topics are...</td>\n",
       "    </tr>\n",
       "    <tr>\n",
       "      <th>3</th>\n",
       "      <td>NaN</td>\n",
       "    </tr>\n",
       "    <tr>\n",
       "      <th>4</th>\n",
       "      <td>In this analysis, income (mostly categorized a...</td>\n",
       "    </tr>\n",
       "    <tr>\n",
       "      <th>5</th>\n",
       "      <td>NaN</td>\n",
       "    </tr>\n",
       "    <tr>\n",
       "      <th>6</th>\n",
       "      <td>Data exclude a small number of people with pri...</td>\n",
       "    </tr>\n",
       "    <tr>\n",
       "      <th>7</th>\n",
       "      <td>Sources</td>\n",
       "    </tr>\n",
       "    <tr>\n",
       "      <th>8</th>\n",
       "      <td>Kaiser Family Foundation estimates based on th...</td>\n",
       "    </tr>\n",
       "    <tr>\n",
       "      <th>9</th>\n",
       "      <td>Definitions</td>\n",
       "    </tr>\n",
       "    <tr>\n",
       "      <th>10</th>\n",
       "      <td>The ASEC asks respondents about their health i...</td>\n",
       "    </tr>\n",
       "    <tr>\n",
       "      <th>11</th>\n",
       "      <td>NaN</td>\n",
       "    </tr>\n",
       "    <tr>\n",
       "      <th>12</th>\n",
       "      <td>*Medicaid*: Includes those covered by Medicaid...</td>\n",
       "    </tr>\n",
       "    <tr>\n",
       "      <th>13</th>\n",
       "      <td>NaN</td>\n",
       "    </tr>\n",
       "    <tr>\n",
       "      <th>14</th>\n",
       "      <td>*Medicare*: Includes those covered by Medicare...</td>\n",
       "    </tr>\n",
       "    <tr>\n",
       "      <th>15</th>\n",
       "      <td>NaN</td>\n",
       "    </tr>\n",
       "    <tr>\n",
       "      <th>16</th>\n",
       "      <td>*Employer*: Includes those covered by employer...</td>\n",
       "    </tr>\n",
       "    <tr>\n",
       "      <th>17</th>\n",
       "      <td>NaN</td>\n",
       "    </tr>\n",
       "    <tr>\n",
       "      <th>18</th>\n",
       "      <td>*Other Public*: Includes those covered under t...</td>\n",
       "    </tr>\n",
       "    <tr>\n",
       "      <th>19</th>\n",
       "      <td>NaN</td>\n",
       "    </tr>\n",
       "    <tr>\n",
       "      <th>20</th>\n",
       "      <td>*Non-Group*: Includes individuals and families...</td>\n",
       "    </tr>\n",
       "    <tr>\n",
       "      <th>21</th>\n",
       "      <td>NaN</td>\n",
       "    </tr>\n",
       "    <tr>\n",
       "      <th>22</th>\n",
       "      <td>*Uninsured*: Includes those without health ins...</td>\n",
       "    </tr>\n",
       "    <tr>\n",
       "      <th>23</th>\n",
       "      <td>NaN</td>\n",
       "    </tr>\n",
       "    <tr>\n",
       "      <th>24</th>\n",
       "      <td>For example, a person having Medicaid coverage...</td>\n",
       "    </tr>\n",
       "    <tr>\n",
       "      <th>25</th>\n",
       "      <td>NaN</td>\n",
       "    </tr>\n",
       "    <tr>\n",
       "      <th>26</th>\n",
       "      <td>*N/A*: Estimates with relative standard errors...</td>\n",
       "    </tr>\n",
       "  </tbody>\n",
       "</table>\n",
       "</div>"
      ],
      "text/plain": [
       "   Title: Health Insurance Coverage of the Total Population | The Henry J. Kaiser Family Foundation\n",
       "0                              Timeframe: 2013 - 2016                                              \n",
       "1                                               Notes                                              \n",
       "2   The majority of our health coverage topics are...                                              \n",
       "3                                                 NaN                                              \n",
       "4   In this analysis, income (mostly categorized a...                                              \n",
       "5                                                 NaN                                              \n",
       "6   Data exclude a small number of people with pri...                                              \n",
       "7                                             Sources                                              \n",
       "8   Kaiser Family Foundation estimates based on th...                                              \n",
       "9                                         Definitions                                              \n",
       "10  The ASEC asks respondents about their health i...                                              \n",
       "11                                                NaN                                              \n",
       "12  *Medicaid*: Includes those covered by Medicaid...                                              \n",
       "13                                                NaN                                              \n",
       "14  *Medicare*: Includes those covered by Medicare...                                              \n",
       "15                                                NaN                                              \n",
       "16  *Employer*: Includes those covered by employer...                                              \n",
       "17                                                NaN                                              \n",
       "18  *Other Public*: Includes those covered under t...                                              \n",
       "19                                                NaN                                              \n",
       "20  *Non-Group*: Includes individuals and families...                                              \n",
       "21                                                NaN                                              \n",
       "22  *Uninsured*: Includes those without health ins...                                              \n",
       "23                                                NaN                                              \n",
       "24  For example, a person having Medicaid coverage...                                              \n",
       "25                                                NaN                                              \n",
       "26  *N/A*: Estimates with relative standard errors...                                              "
      ]
     },
     "execution_count": 4,
     "metadata": {},
     "output_type": "execute_result"
    }
   ],
   "source": [
    "healthcare_c"
   ]
  },
  {
   "cell_type": "code",
   "execution_count": null,
   "id": "8fb49bb3",
   "metadata": {
    "papermill": {
     "duration": 0.004203,
     "end_time": "2023-06-22T08:39:24.655389",
     "exception": false,
     "start_time": "2023-06-22T08:39:24.651186",
     "status": "completed"
    },
    "tags": []
   },
   "outputs": [],
   "source": []
  }
 ],
 "metadata": {
  "kernelspec": {
   "display_name": "Python 3",
   "language": "python",
   "name": "python3"
  },
  "language_info": {
   "codemirror_mode": {
    "name": "ipython",
    "version": 3
   },
   "file_extension": ".py",
   "mimetype": "text/x-python",
   "name": "python",
   "nbconvert_exporter": "python",
   "pygments_lexer": "ipython3",
   "version": "3.10.10"
  },
  "papermill": {
   "default_parameters": {},
   "duration": 14.542917,
   "end_time": "2023-06-22T08:39:25.583237",
   "environment_variables": {},
   "exception": null,
   "input_path": "__notebook__.ipynb",
   "output_path": "__notebook__.ipynb",
   "parameters": {},
   "start_time": "2023-06-22T08:39:11.040320",
   "version": "2.4.0"
  }
 },
 "nbformat": 4,
 "nbformat_minor": 5
}
