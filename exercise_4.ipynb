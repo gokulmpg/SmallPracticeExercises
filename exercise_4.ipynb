{
 "cells": [
  {
   "cell_type": "markdown",
   "id": "cddfa8e6",
   "metadata": {},
   "source": [
    "### DATA \n",
    "TUTORIAL \n",
    "\n",
    ""
   ]
  },
  {
   "cell_type": "markdown",
   "id": "89f02515",
   "metadata": {},
   "source": [
    "## Exercise 1: Working with DataFrames (1*1 = 1 Points) \n",
    "1. Use R/ Python code to read the iris dataset uploaded along with the exercise"
   ]
  },
  {
   "cell_type": "code",
   "execution_count": 1,
   "id": "329abab1",
   "metadata": {},
   "outputs": [
    {
     "data": {
      "text/html": [
       "<div>\n",
       "<style scoped>\n",
       "    .dataframe tbody tr th:only-of-type {\n",
       "        vertical-align: middle;\n",
       "    }\n",
       "\n",
       "    .dataframe tbody tr th {\n",
       "        vertical-align: top;\n",
       "    }\n",
       "\n",
       "    .dataframe thead th {\n",
       "        text-align: right;\n",
       "    }\n",
       "</style>\n",
       "<table border=\"1\" class=\"dataframe\">\n",
       "  <thead>\n",
       "    <tr style=\"text-align: right;\">\n",
       "      <th></th>\n",
       "      <th>Id</th>\n",
       "      <th>SepalLengthCm</th>\n",
       "      <th>SepalWidthCm</th>\n",
       "      <th>PetalLengthCm</th>\n",
       "      <th>PetalWidthCm</th>\n",
       "      <th>Species</th>\n",
       "    </tr>\n",
       "  </thead>\n",
       "  <tbody>\n",
       "    <tr>\n",
       "      <th>0</th>\n",
       "      <td>1</td>\n",
       "      <td>5.1</td>\n",
       "      <td>3.5</td>\n",
       "      <td>1.4</td>\n",
       "      <td>0.2</td>\n",
       "      <td>Iris-setosa</td>\n",
       "    </tr>\n",
       "    <tr>\n",
       "      <th>1</th>\n",
       "      <td>2</td>\n",
       "      <td>4.9</td>\n",
       "      <td>3.0</td>\n",
       "      <td>1.4</td>\n",
       "      <td>0.2</td>\n",
       "      <td>Iris-setosa</td>\n",
       "    </tr>\n",
       "  </tbody>\n",
       "</table>\n",
       "</div>"
      ],
      "text/plain": [
       "   Id  SepalLengthCm  SepalWidthCm  PetalLengthCm  PetalWidthCm      Species\n",
       "0   1            5.1           3.5            1.4           0.2  Iris-setosa\n",
       "1   2            4.9           3.0            1.4           0.2  Iris-setosa"
      ]
     },
     "execution_count": 1,
     "metadata": {},
     "output_type": "execute_result"
    }
   ],
   "source": [
    "import pandas as pd\n",
    "iris = pd.read_csv('iris.csv')\n",
    "iris.head(2)"
   ]
  },
  {
   "cell_type": "markdown",
   "id": "5c33c7ab",
   "metadata": {},
   "source": [
    "## Exercise 2: Descriptive statistics (4*1 = 4 Points) \n",
    "(Hint: See Readings->Software folder, page 158 Chapter 5 of the Python Text Book uploaded) \n",
    "1. Write R/Python code to find the mean, median and mode of the “PetalWidth” of the three different type \n",
    "of flower species separately, indicated in the column “Species” of the csv file. "
   ]
  },
  {
   "cell_type": "code",
   "execution_count": 2,
   "id": "83f76ff8",
   "metadata": {},
   "outputs": [
    {
     "data": {
      "text/plain": [
       "array(['Iris-setosa', 'Iris-versicolor', 'Iris-virginica'], dtype=object)"
      ]
     },
     "execution_count": 2,
     "metadata": {},
     "output_type": "execute_result"
    }
   ],
   "source": [
    "array = iris['Species'].unique()\n",
    "array"
   ]
  },
  {
   "cell_type": "code",
   "execution_count": 3,
   "id": "beceaa7a",
   "metadata": {},
   "outputs": [
    {
     "name": "stdout",
     "output_type": "stream",
     "text": [
      "Iris-setosa :\n",
      "mean of Iris-setosa : 0.2439999999999999 cm\n",
      "median of Iris-setosa : 0.2 cm\n",
      "mode of Iris-setosa : 0    0.2\n",
      "dtype: float64 \n",
      "\n",
      "Iris-versicolor :\n",
      "mean of Iris-versicolor : 1.3259999999999998 cm\n",
      "median of Iris-versicolor : 1.3 cm\n",
      "mode of Iris-versicolor : 0    1.3\n",
      "dtype: float64 \n",
      "\n",
      "Iris-virginica :\n",
      "mean of Iris-virginica : 2.026 cm\n",
      "median of Iris-virginica : 2.0 cm\n",
      "mode of Iris-virginica : 0    1.8\n",
      "dtype: float64 \n",
      "\n"
     ]
    }
   ],
   "source": [
    "for i in array:\n",
    "    first = iris[(iris.Species==i)]\n",
    "    print (i ,':')\n",
    "    print('mean of', i , ':', first.PetalWidthCm.mean(), 'cm')\n",
    "    print('median of', i , ':', first.PetalWidthCm.median(), 'cm')\n",
    "    print('mode of', i , ':', first.PetalWidthCm.mode(), '\\n')\n"
   ]
  }
 ],
 "metadata": {
  "kernelspec": {
   "display_name": "Python 3",
   "language": "python",
   "name": "python3"
  },
  "language_info": {
   "codemirror_mode": {
    "name": "ipython",
    "version": 3
   },
   "file_extension": ".py",
   "mimetype": "text/x-python",
   "name": "python",
   "nbconvert_exporter": "python",
   "pygments_lexer": "ipython3",
   "version": "3.8.8"
  }
 },
 "nbformat": 4,
 "nbformat_minor": 5
}
