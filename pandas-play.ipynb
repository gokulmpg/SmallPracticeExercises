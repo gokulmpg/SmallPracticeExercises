{
 "cells": [
  {
   "cell_type": "code",
   "execution_count": 1,
   "id": "02657325",
   "metadata": {
    "_cell_guid": "b1076dfc-b9ad-4769-8c92-a6c4dae69d19",
    "_uuid": "8f2839f25d086af736a60e9eeb907d3b93b6e0e5",
    "execution": {
     "iopub.execute_input": "2023-06-23T11:42:17.281505Z",
     "iopub.status.busy": "2023-06-23T11:42:17.280742Z",
     "iopub.status.idle": "2023-06-23T11:42:17.293107Z",
     "shell.execute_reply": "2023-06-23T11:42:17.292064Z"
    },
    "papermill": {
     "duration": 0.031611,
     "end_time": "2023-06-23T11:42:17.295595",
     "exception": false,
     "start_time": "2023-06-23T11:42:17.263984",
     "status": "completed"
    },
    "tags": []
   },
   "outputs": [],
   "source": [
    "import numpy as np\n",
    "import pandas as pd "
   ]
  },
  {
   "cell_type": "code",
   "execution_count": 2,
   "id": "dbf2058a",
   "metadata": {
    "execution": {
     "iopub.execute_input": "2023-06-23T11:42:17.326214Z",
     "iopub.status.busy": "2023-06-23T11:42:17.325185Z",
     "iopub.status.idle": "2023-06-23T11:42:17.390934Z",
     "shell.execute_reply": "2023-06-23T11:42:17.389601Z"
    },
    "papermill": {
     "duration": 0.084525,
     "end_time": "2023-06-23T11:42:17.394232",
     "exception": false,
     "start_time": "2023-06-23T11:42:17.309707",
     "status": "completed"
    },
    "tags": []
   },
   "outputs": [],
   "source": [
    "appl = pd.read_csv(\"../input/stock-market-data/stock_market_data/nasdaq/csv/AAPL.csv\")"
   ]
  },
  {
   "cell_type": "code",
   "execution_count": 3,
   "id": "b8f978ca",
   "metadata": {
    "execution": {
     "iopub.execute_input": "2023-06-23T11:42:17.424418Z",
     "iopub.status.busy": "2023-06-23T11:42:17.424020Z",
     "iopub.status.idle": "2023-06-23T11:42:17.453647Z",
     "shell.execute_reply": "2023-06-23T11:42:17.452562Z"
    },
    "papermill": {
     "duration": 0.048061,
     "end_time": "2023-06-23T11:42:17.456438",
     "exception": false,
     "start_time": "2023-06-23T11:42:17.408377",
     "status": "completed"
    },
    "tags": []
   },
   "outputs": [
    {
     "data": {
      "text/plain": [
       "<bound method NDFrame.first of              Date         Low        Open     Volume        High       Close  \\\n",
       "0      12-12-1980    0.128348    0.128348  469033600    0.128906    0.128348   \n",
       "1      15-12-1980    0.121652    0.122210  175884800    0.122210    0.121652   \n",
       "2      16-12-1980    0.112723    0.113281  105728000    0.113281    0.112723   \n",
       "3      17-12-1980    0.115513    0.115513   86441600    0.116071    0.115513   \n",
       "4      18-12-1980    0.118862    0.118862   73449600    0.119420    0.118862   \n",
       "...           ...         ...         ...        ...         ...         ...   \n",
       "10585  06-12-2022  141.919998  147.070007   64727200  147.300003  142.910004   \n",
       "10586  07-12-2022  140.000000  142.190002   69721100  143.369995  140.940002   \n",
       "10587  08-12-2022  141.100006  142.360001   62128300  143.520004  142.649994   \n",
       "10588  09-12-2022  140.899994  142.339996   76069500  145.570007  142.160004   \n",
       "10589  12-12-2022  141.070007  142.699997   21904917  143.000000  142.320007   \n",
       "\n",
       "       Adjusted Close  \n",
       "0            0.099874  \n",
       "1            0.094663  \n",
       "2            0.087715  \n",
       "3            0.089886  \n",
       "4            0.092492  \n",
       "...               ...  \n",
       "10585      142.910004  \n",
       "10586      140.940002  \n",
       "10587      142.649994  \n",
       "10588      142.160004  \n",
       "10589      142.320007  \n",
       "\n",
       "[10590 rows x 7 columns]>"
      ]
     },
     "execution_count": 3,
     "metadata": {},
     "output_type": "execute_result"
    }
   ],
   "source": [
    "appl.first"
   ]
  },
  {
   "cell_type": "code",
   "execution_count": 4,
   "id": "1f1bee93",
   "metadata": {
    "execution": {
     "iopub.execute_input": "2023-06-23T11:42:17.488697Z",
     "iopub.status.busy": "2023-06-23T11:42:17.487283Z",
     "iopub.status.idle": "2023-06-23T11:42:17.493379Z",
     "shell.execute_reply": "2023-06-23T11:42:17.492214Z"
    },
    "papermill": {
     "duration": 0.02497,
     "end_time": "2023-06-23T11:42:17.496317",
     "exception": false,
     "start_time": "2023-06-23T11:42:17.471347",
     "status": "completed"
    },
    "tags": []
   },
   "outputs": [],
   "source": [
    "date_appl = appl['Date']"
   ]
  },
  {
   "cell_type": "code",
   "execution_count": 5,
   "id": "f5a9183d",
   "metadata": {
    "execution": {
     "iopub.execute_input": "2023-06-23T11:42:17.527620Z",
     "iopub.status.busy": "2023-06-23T11:42:17.526294Z",
     "iopub.status.idle": "2023-06-23T11:42:17.531347Z",
     "shell.execute_reply": "2023-06-23T11:42:17.530533Z"
    },
    "papermill": {
     "duration": 0.022815,
     "end_time": "2023-06-23T11:42:17.533545",
     "exception": false,
     "start_time": "2023-06-23T11:42:17.510730",
     "status": "completed"
    },
    "tags": []
   },
   "outputs": [],
   "source": [
    "#date_appl.to_csv(\"date_appl.csv\")"
   ]
  },
  {
   "cell_type": "code",
   "execution_count": 6,
   "id": "db6c3359",
   "metadata": {
    "execution": {
     "iopub.execute_input": "2023-06-23T11:42:17.564592Z",
     "iopub.status.busy": "2023-06-23T11:42:17.563857Z",
     "iopub.status.idle": "2023-06-23T11:42:18.709547Z",
     "shell.execute_reply": "2023-06-23T11:42:18.708200Z"
    },
    "papermill": {
     "duration": 1.165127,
     "end_time": "2023-06-23T11:42:18.712807",
     "exception": false,
     "start_time": "2023-06-23T11:42:17.547680",
     "status": "completed"
    },
    "tags": []
   },
   "outputs": [
    {
     "name": "stdout",
     "output_type": "stream",
     "text": [
      "\u001b[0m\u001b[01;34mstock_market_data\u001b[0m/\r\n"
     ]
    }
   ],
   "source": [
    "ls ../input/stock-market-data/"
   ]
  },
  {
   "cell_type": "code",
   "execution_count": 7,
   "id": "367d2edc",
   "metadata": {
    "execution": {
     "iopub.execute_input": "2023-06-23T11:42:18.749064Z",
     "iopub.status.busy": "2023-06-23T11:42:18.747446Z",
     "iopub.status.idle": "2023-06-23T11:42:18.800809Z",
     "shell.execute_reply": "2023-06-23T11:42:18.799815Z"
    },
    "papermill": {
     "duration": 0.072983,
     "end_time": "2023-06-23T11:42:18.803580",
     "exception": false,
     "start_time": "2023-06-23T11:42:18.730597",
     "status": "completed"
    },
    "tags": []
   },
   "outputs": [],
   "source": [
    "tess = pd.read_csv(\"../input/stock-market-data/stock_market_data/nasdaq/csv/TESS.csv\")"
   ]
  },
  {
   "cell_type": "code",
   "execution_count": 8,
   "id": "2d5323b4",
   "metadata": {
    "execution": {
     "iopub.execute_input": "2023-06-23T11:42:18.834387Z",
     "iopub.status.busy": "2023-06-23T11:42:18.833603Z",
     "iopub.status.idle": "2023-06-23T11:42:18.857874Z",
     "shell.execute_reply": "2023-06-23T11:42:18.856689Z"
    },
    "papermill": {
     "duration": 0.042847,
     "end_time": "2023-06-23T11:42:18.860549",
     "exception": false,
     "start_time": "2023-06-23T11:42:18.817702",
     "status": "completed"
    },
    "tags": []
   },
   "outputs": [
    {
     "data": {
      "text/html": [
       "<div>\n",
       "<style scoped>\n",
       "    .dataframe tbody tr th:only-of-type {\n",
       "        vertical-align: middle;\n",
       "    }\n",
       "\n",
       "    .dataframe tbody tr th {\n",
       "        vertical-align: top;\n",
       "    }\n",
       "\n",
       "    .dataframe thead th {\n",
       "        text-align: right;\n",
       "    }\n",
       "</style>\n",
       "<table border=\"1\" class=\"dataframe\">\n",
       "  <thead>\n",
       "    <tr style=\"text-align: right;\">\n",
       "      <th></th>\n",
       "      <th>Date</th>\n",
       "      <th>Low</th>\n",
       "      <th>Open</th>\n",
       "      <th>Volume</th>\n",
       "      <th>High</th>\n",
       "      <th>Close</th>\n",
       "      <th>Adjusted Close</th>\n",
       "    </tr>\n",
       "  </thead>\n",
       "  <tbody>\n",
       "    <tr>\n",
       "      <th>0</th>\n",
       "      <td>28-09-1994</td>\n",
       "      <td>6.888889</td>\n",
       "      <td>7.111111</td>\n",
       "      <td>4127625</td>\n",
       "      <td>7.444444</td>\n",
       "      <td>7.222222</td>\n",
       "      <td>4.549767</td>\n",
       "    </tr>\n",
       "    <tr>\n",
       "      <th>1</th>\n",
       "      <td>29-09-1994</td>\n",
       "      <td>7.111111</td>\n",
       "      <td>7.111111</td>\n",
       "      <td>644625</td>\n",
       "      <td>7.222222</td>\n",
       "      <td>7.111111</td>\n",
       "      <td>4.479772</td>\n",
       "    </tr>\n",
       "  </tbody>\n",
       "</table>\n",
       "</div>"
      ],
      "text/plain": [
       "         Date       Low      Open   Volume      High     Close  Adjusted Close\n",
       "0  28-09-1994  6.888889  7.111111  4127625  7.444444  7.222222        4.549767\n",
       "1  29-09-1994  7.111111  7.111111   644625  7.222222  7.111111        4.479772"
      ]
     },
     "execution_count": 8,
     "metadata": {},
     "output_type": "execute_result"
    }
   ],
   "source": [
    "tess.head(2)"
   ]
  },
  {
   "cell_type": "code",
   "execution_count": 9,
   "id": "6c920e98",
   "metadata": {
    "execution": {
     "iopub.execute_input": "2023-06-23T11:42:18.892150Z",
     "iopub.status.busy": "2023-06-23T11:42:18.891296Z",
     "iopub.status.idle": "2023-06-23T11:42:18.902896Z",
     "shell.execute_reply": "2023-06-23T11:42:18.901945Z"
    },
    "papermill": {
     "duration": 0.030551,
     "end_time": "2023-06-23T11:42:18.905593",
     "exception": false,
     "start_time": "2023-06-23T11:42:18.875042",
     "status": "completed"
    },
    "tags": []
   },
   "outputs": [],
   "source": [
    "\n",
    "tess_date = tess[[\"Date\",\"Low\"]]\n",
    "tess_date = tess_date.rename(columns={\"Date\":\"Date1\"})"
   ]
  },
  {
   "cell_type": "code",
   "execution_count": 10,
   "id": "e1536be0",
   "metadata": {
    "execution": {
     "iopub.execute_input": "2023-06-23T11:42:18.937193Z",
     "iopub.status.busy": "2023-06-23T11:42:18.936376Z",
     "iopub.status.idle": "2023-06-23T11:42:18.950804Z",
     "shell.execute_reply": "2023-06-23T11:42:18.949889Z"
    },
    "papermill": {
     "duration": 0.033335,
     "end_time": "2023-06-23T11:42:18.953448",
     "exception": false,
     "start_time": "2023-06-23T11:42:18.920113",
     "status": "completed"
    },
    "tags": []
   },
   "outputs": [],
   "source": [
    "df = pd.concat([tess_date,date_appl])"
   ]
  },
  {
   "cell_type": "code",
   "execution_count": 11,
   "id": "5fd6a311",
   "metadata": {
    "execution": {
     "iopub.execute_input": "2023-06-23T11:42:18.985362Z",
     "iopub.status.busy": "2023-06-23T11:42:18.984847Z",
     "iopub.status.idle": "2023-06-23T11:42:18.992447Z",
     "shell.execute_reply": "2023-06-23T11:42:18.991365Z"
    },
    "papermill": {
     "duration": 0.026916,
     "end_time": "2023-06-23T11:42:18.994938",
     "exception": false,
     "start_time": "2023-06-23T11:42:18.968022",
     "status": "completed"
    },
    "tags": []
   },
   "outputs": [
    {
     "data": {
      "text/plain": [
       "False"
      ]
     },
     "execution_count": 11,
     "metadata": {},
     "output_type": "execute_result"
    }
   ],
   "source": [
    "df[0].equals(df['Date1']) "
   ]
  },
  {
   "cell_type": "code",
   "execution_count": 12,
   "id": "1293128a",
   "metadata": {
    "execution": {
     "iopub.execute_input": "2023-06-23T11:42:19.026812Z",
     "iopub.status.busy": "2023-06-23T11:42:19.026067Z",
     "iopub.status.idle": "2023-06-23T11:42:19.058818Z",
     "shell.execute_reply": "2023-06-23T11:42:19.057699Z"
    },
    "papermill": {
     "duration": 0.051999,
     "end_time": "2023-06-23T11:42:19.061624",
     "exception": false,
     "start_time": "2023-06-23T11:42:19.009625",
     "status": "completed"
    },
    "tags": []
   },
   "outputs": [
    {
     "name": "stderr",
     "output_type": "stream",
     "text": [
      "/tmp/ipykernel_20/1703867807.py:1: FutureWarning: The default value of numeric_only in DataFrame.sum is deprecated. In a future version, it will default to False. In addition, specifying 'numeric_only=None' is deprecated. Select only valid columns or specify the value of numeric_only to silence this warning.\n",
      "  df.sum()\n"
     ]
    },
    {
     "data": {
      "text/plain": [
       "Low    85417.587426\n",
       "dtype: float64"
      ]
     },
     "execution_count": 12,
     "metadata": {},
     "output_type": "execute_result"
    }
   ],
   "source": [
    "df.sum()"
   ]
  },
  {
   "cell_type": "code",
   "execution_count": 13,
   "id": "c4857612",
   "metadata": {
    "execution": {
     "iopub.execute_input": "2023-06-23T11:42:19.093711Z",
     "iopub.status.busy": "2023-06-23T11:42:19.092936Z",
     "iopub.status.idle": "2023-06-23T11:42:19.126288Z",
     "shell.execute_reply": "2023-06-23T11:42:19.124562Z"
    },
    "papermill": {
     "duration": 0.052322,
     "end_time": "2023-06-23T11:42:19.128909",
     "exception": false,
     "start_time": "2023-06-23T11:42:19.076587",
     "status": "completed"
    },
    "tags": []
   },
   "outputs": [
    {
     "name": "stderr",
     "output_type": "stream",
     "text": [
      "/tmp/ipykernel_20/3698961737.py:1: FutureWarning: The default value of numeric_only in DataFrame.mean is deprecated. In a future version, it will default to False. In addition, specifying 'numeric_only=None' is deprecated. Select only valid columns or specify the value of numeric_only to silence this warning.\n",
      "  df.mean()\n"
     ]
    },
    {
     "data": {
      "text/plain": [
       "Low    12.025565\n",
       "dtype: float64"
      ]
     },
     "execution_count": 13,
     "metadata": {},
     "output_type": "execute_result"
    }
   ],
   "source": [
    "df.mean()"
   ]
  },
  {
   "cell_type": "code",
   "execution_count": 14,
   "id": "abc9aa03",
   "metadata": {
    "execution": {
     "iopub.execute_input": "2023-06-23T11:42:19.161400Z",
     "iopub.status.busy": "2023-06-23T11:42:19.160843Z",
     "iopub.status.idle": "2023-06-23T11:42:19.178509Z",
     "shell.execute_reply": "2023-06-23T11:42:19.177071Z"
    },
    "papermill": {
     "duration": 0.037634,
     "end_time": "2023-06-23T11:42:19.181634",
     "exception": false,
     "start_time": "2023-06-23T11:42:19.144000",
     "status": "completed"
    },
    "tags": []
   },
   "outputs": [
    {
     "data": {
      "text/html": [
       "<div>\n",
       "<style scoped>\n",
       "    .dataframe tbody tr th:only-of-type {\n",
       "        vertical-align: middle;\n",
       "    }\n",
       "\n",
       "    .dataframe tbody tr th {\n",
       "        vertical-align: top;\n",
       "    }\n",
       "\n",
       "    .dataframe thead th {\n",
       "        text-align: right;\n",
       "    }\n",
       "</style>\n",
       "<table border=\"1\" class=\"dataframe\">\n",
       "  <thead>\n",
       "    <tr style=\"text-align: right;\">\n",
       "      <th></th>\n",
       "      <th>Date1</th>\n",
       "      <th>Low</th>\n",
       "      <th>0</th>\n",
       "    </tr>\n",
       "  </thead>\n",
       "  <tbody>\n",
       "    <tr>\n",
       "      <th>4</th>\n",
       "      <td>04-10-1994</td>\n",
       "      <td>7.222222</td>\n",
       "      <td>NaN</td>\n",
       "    </tr>\n",
       "    <tr>\n",
       "      <th>4</th>\n",
       "      <td>NaN</td>\n",
       "      <td>NaN</td>\n",
       "      <td>18-12-1980</td>\n",
       "    </tr>\n",
       "  </tbody>\n",
       "</table>\n",
       "</div>"
      ],
      "text/plain": [
       "        Date1       Low           0\n",
       "4  04-10-1994  7.222222         NaN\n",
       "4         NaN       NaN  18-12-1980"
      ]
     },
     "execution_count": 14,
     "metadata": {},
     "output_type": "execute_result"
    }
   ],
   "source": [
    "df.loc[4]"
   ]
  },
  {
   "cell_type": "code",
   "execution_count": 15,
   "id": "68a02d45",
   "metadata": {
    "execution": {
     "iopub.execute_input": "2023-06-23T11:42:19.215526Z",
     "iopub.status.busy": "2023-06-23T11:42:19.214914Z",
     "iopub.status.idle": "2023-06-23T11:42:19.227386Z",
     "shell.execute_reply": "2023-06-23T11:42:19.225676Z"
    },
    "papermill": {
     "duration": 0.033847,
     "end_time": "2023-06-23T11:42:19.231453",
     "exception": false,
     "start_time": "2023-06-23T11:42:19.197606",
     "status": "completed"
    },
    "tags": []
   },
   "outputs": [
    {
     "data": {
      "text/plain": [
       "Date1    04-10-1994\n",
       "Low        7.222222\n",
       "0               NaN\n",
       "Name: 4, dtype: object"
      ]
     },
     "execution_count": 15,
     "metadata": {},
     "output_type": "execute_result"
    }
   ],
   "source": [
    "df.iloc[4]"
   ]
  },
  {
   "cell_type": "code",
   "execution_count": 16,
   "id": "1a754bff",
   "metadata": {
    "execution": {
     "iopub.execute_input": "2023-06-23T11:42:19.264660Z",
     "iopub.status.busy": "2023-06-23T11:42:19.264182Z",
     "iopub.status.idle": "2023-06-23T11:42:19.300976Z",
     "shell.execute_reply": "2023-06-23T11:42:19.299558Z"
    },
    "papermill": {
     "duration": 0.05651,
     "end_time": "2023-06-23T11:42:19.303703",
     "exception": false,
     "start_time": "2023-06-23T11:42:19.247193",
     "status": "completed"
    },
    "tags": []
   },
   "outputs": [
    {
     "name": "stdout",
     "output_type": "stream",
     "text": [
      "<class 'pandas.core.frame.DataFrame'>\n",
      "Int64Index: 17693 entries, 0 to 10589\n",
      "Data columns (total 3 columns):\n",
      " #   Column  Non-Null Count  Dtype  \n",
      "---  ------  --------------  -----  \n",
      " 0   Date1   7103 non-null   object \n",
      " 1   Low     7103 non-null   float64\n",
      " 2   0       10590 non-null  object \n",
      "dtypes: float64(1), object(2)\n",
      "memory usage: 1.0+ MB\n"
     ]
    }
   ],
   "source": [
    "df.info()"
   ]
  },
  {
   "cell_type": "code",
   "execution_count": 17,
   "id": "88973cb8",
   "metadata": {
    "execution": {
     "iopub.execute_input": "2023-06-23T11:42:19.337444Z",
     "iopub.status.busy": "2023-06-23T11:42:19.336762Z",
     "iopub.status.idle": "2023-06-23T11:42:19.346500Z",
     "shell.execute_reply": "2023-06-23T11:42:19.345224Z"
    },
    "papermill": {
     "duration": 0.029936,
     "end_time": "2023-06-23T11:42:19.349003",
     "exception": false,
     "start_time": "2023-06-23T11:42:19.319067",
     "status": "completed"
    },
    "tags": []
   },
   "outputs": [
    {
     "data": {
      "text/plain": [
       "Int64Index([    0,     1,     2,     3,     4,     5,     6,     7,     8,\n",
       "                9,\n",
       "            ...\n",
       "            10580, 10581, 10582, 10583, 10584, 10585, 10586, 10587, 10588,\n",
       "            10589],\n",
       "           dtype='int64', length=17693)"
      ]
     },
     "execution_count": 17,
     "metadata": {},
     "output_type": "execute_result"
    }
   ],
   "source": [
    "df.index"
   ]
  },
  {
   "cell_type": "code",
   "execution_count": 18,
   "id": "6c96834a",
   "metadata": {
    "execution": {
     "iopub.execute_input": "2023-06-23T11:42:19.383032Z",
     "iopub.status.busy": "2023-06-23T11:42:19.382544Z",
     "iopub.status.idle": "2023-06-23T11:42:19.391261Z",
     "shell.execute_reply": "2023-06-23T11:42:19.389996Z"
    },
    "papermill": {
     "duration": 0.029319,
     "end_time": "2023-06-23T11:42:19.394446",
     "exception": false,
     "start_time": "2023-06-23T11:42:19.365127",
     "status": "completed"
    },
    "tags": []
   },
   "outputs": [
    {
     "data": {
      "text/plain": [
       "Index(['Date1', 'Low', 0], dtype='object')"
      ]
     },
     "execution_count": 18,
     "metadata": {},
     "output_type": "execute_result"
    }
   ],
   "source": [
    "df.columns\n"
   ]
  },
  {
   "cell_type": "code",
   "execution_count": 19,
   "id": "a299d2a1",
   "metadata": {
    "execution": {
     "iopub.execute_input": "2023-06-23T11:42:19.430172Z",
     "iopub.status.busy": "2023-06-23T11:42:19.429728Z",
     "iopub.status.idle": "2023-06-23T11:42:19.439602Z",
     "shell.execute_reply": "2023-06-23T11:42:19.438298Z"
    },
    "papermill": {
     "duration": 0.031149,
     "end_time": "2023-06-23T11:42:19.442356",
     "exception": false,
     "start_time": "2023-06-23T11:42:19.411207",
     "status": "completed"
    },
    "tags": []
   },
   "outputs": [
    {
     "data": {
      "text/plain": [
       "Date1     object\n",
       "Low      float64\n",
       "0         object\n",
       "dtype: object"
      ]
     },
     "execution_count": 19,
     "metadata": {},
     "output_type": "execute_result"
    }
   ],
   "source": [
    "df.dtypes\n"
   ]
  },
  {
   "cell_type": "code",
   "execution_count": 20,
   "id": "c7d8e43e",
   "metadata": {
    "execution": {
     "iopub.execute_input": "2023-06-23T11:42:19.479669Z",
     "iopub.status.busy": "2023-06-23T11:42:19.478890Z",
     "iopub.status.idle": "2023-06-23T11:42:19.504465Z",
     "shell.execute_reply": "2023-06-23T11:42:19.502566Z"
    },
    "papermill": {
     "duration": 0.048853,
     "end_time": "2023-06-23T11:42:19.508299",
     "exception": false,
     "start_time": "2023-06-23T11:42:19.459446",
     "status": "completed"
    },
    "tags": []
   },
   "outputs": [
    {
     "name": "stdout",
     "output_type": "stream",
     "text": [
      "<class 'pandas.core.frame.DataFrame'>\n",
      "Int64Index: 17693 entries, 0 to 10589\n",
      "Data columns (total 3 columns):\n",
      " #   Column  Non-Null Count  Dtype  \n",
      "---  ------  --------------  -----  \n",
      " 0   Date1   7103 non-null   object \n",
      " 1   Low     7103 non-null   float64\n",
      " 2   0       10590 non-null  object \n",
      "dtypes: float64(1), object(2)\n",
      "memory usage: 1.0+ MB\n"
     ]
    }
   ],
   "source": [
    "df.info(verbose=True)\n"
   ]
  },
  {
   "cell_type": "code",
   "execution_count": 21,
   "id": "3a4f47f6",
   "metadata": {
    "execution": {
     "iopub.execute_input": "2023-06-23T11:42:19.545804Z",
     "iopub.status.busy": "2023-06-23T11:42:19.545217Z",
     "iopub.status.idle": "2023-06-23T11:42:19.557974Z",
     "shell.execute_reply": "2023-06-23T11:42:19.556777Z"
    },
    "papermill": {
     "duration": 0.035068,
     "end_time": "2023-06-23T11:42:19.560757",
     "exception": false,
     "start_time": "2023-06-23T11:42:19.525689",
     "status": "completed"
    },
    "tags": []
   },
   "outputs": [
    {
     "data": {
      "text/html": [
       "<div>\n",
       "<style scoped>\n",
       "    .dataframe tbody tr th:only-of-type {\n",
       "        vertical-align: middle;\n",
       "    }\n",
       "\n",
       "    .dataframe tbody tr th {\n",
       "        vertical-align: top;\n",
       "    }\n",
       "\n",
       "    .dataframe thead th {\n",
       "        text-align: right;\n",
       "    }\n",
       "</style>\n",
       "<table border=\"1\" class=\"dataframe\">\n",
       "  <thead>\n",
       "    <tr style=\"text-align: right;\">\n",
       "      <th></th>\n",
       "    </tr>\n",
       "  </thead>\n",
       "  <tbody>\n",
       "    <tr>\n",
       "      <th>0</th>\n",
       "    </tr>\n",
       "    <tr>\n",
       "      <th>1</th>\n",
       "    </tr>\n",
       "    <tr>\n",
       "      <th>2</th>\n",
       "    </tr>\n",
       "    <tr>\n",
       "      <th>3</th>\n",
       "    </tr>\n",
       "    <tr>\n",
       "      <th>4</th>\n",
       "    </tr>\n",
       "    <tr>\n",
       "      <th>...</th>\n",
       "    </tr>\n",
       "    <tr>\n",
       "      <th>10585</th>\n",
       "    </tr>\n",
       "    <tr>\n",
       "      <th>10586</th>\n",
       "    </tr>\n",
       "    <tr>\n",
       "      <th>10587</th>\n",
       "    </tr>\n",
       "    <tr>\n",
       "      <th>10588</th>\n",
       "    </tr>\n",
       "    <tr>\n",
       "      <th>10589</th>\n",
       "    </tr>\n",
       "  </tbody>\n",
       "</table>\n",
       "<p>17693 rows × 0 columns</p>\n",
       "</div>"
      ],
      "text/plain": [
       "Empty DataFrame\n",
       "Columns: []\n",
       "Index: [0, 1, 2, 3, 4, 5, 6, 7, 8, 9, 10, 11, 12, 13, 14, 15, 16, 17, 18, 19, 20, 21, 22, 23, 24, 25, 26, 27, 28, 29, 30, 31, 32, 33, 34, 35, 36, 37, 38, 39, 40, 41, 42, 43, 44, 45, 46, 47, 48, 49, 50, 51, 52, 53, 54, 55, 56, 57, 58, 59, 60, 61, 62, 63, 64, 65, 66, 67, 68, 69, 70, 71, 72, 73, 74, 75, 76, 77, 78, 79, 80, 81, 82, 83, 84, 85, 86, 87, 88, 89, 90, 91, 92, 93, 94, 95, 96, 97, 98, 99, ...]\n",
       "\n",
       "[17693 rows x 0 columns]"
      ]
     },
     "execution_count": 21,
     "metadata": {},
     "output_type": "execute_result"
    }
   ],
   "source": [
    "df.select_dtypes(include= 'bool')\n"
   ]
  },
  {
   "cell_type": "code",
   "execution_count": 22,
   "id": "dc67b94f",
   "metadata": {
    "execution": {
     "iopub.execute_input": "2023-06-23T11:42:19.597634Z",
     "iopub.status.busy": "2023-06-23T11:42:19.596892Z",
     "iopub.status.idle": "2023-06-23T11:42:19.607977Z",
     "shell.execute_reply": "2023-06-23T11:42:19.606398Z"
    },
    "papermill": {
     "duration": 0.032597,
     "end_time": "2023-06-23T11:42:19.610705",
     "exception": false,
     "start_time": "2023-06-23T11:42:19.578108",
     "status": "completed"
    },
    "tags": []
   },
   "outputs": [
    {
     "data": {
      "text/plain": [
       "array([['28-09-1994', 6.888888835906982, nan],\n",
       "       ['29-09-1994', 7.111111164093018, nan],\n",
       "       ['30-09-1994', 7.111111164093018, nan],\n",
       "       ...,\n",
       "       [nan, nan, '08-12-2022'],\n",
       "       [nan, nan, '09-12-2022'],\n",
       "       [nan, nan, '12-12-2022']], dtype=object)"
      ]
     },
     "execution_count": 22,
     "metadata": {},
     "output_type": "execute_result"
    }
   ],
   "source": [
    "df.values\n"
   ]
  },
  {
   "cell_type": "code",
   "execution_count": 23,
   "id": "8dba7808",
   "metadata": {
    "execution": {
     "iopub.execute_input": "2023-06-23T11:42:19.647827Z",
     "iopub.status.busy": "2023-06-23T11:42:19.647319Z",
     "iopub.status.idle": "2023-06-23T11:42:19.655170Z",
     "shell.execute_reply": "2023-06-23T11:42:19.654274Z"
    },
    "papermill": {
     "duration": 0.029445,
     "end_time": "2023-06-23T11:42:19.657464",
     "exception": false,
     "start_time": "2023-06-23T11:42:19.628019",
     "status": "completed"
    },
    "tags": []
   },
   "outputs": [
    {
     "data": {
      "text/plain": [
       "[Int64Index([    0,     1,     2,     3,     4,     5,     6,     7,     8,\n",
       "                 9,\n",
       "             ...\n",
       "             10580, 10581, 10582, 10583, 10584, 10585, 10586, 10587, 10588,\n",
       "             10589],\n",
       "            dtype='int64', length=17693),\n",
       " Index(['Date1', 'Low', 0], dtype='object')]"
      ]
     },
     "execution_count": 23,
     "metadata": {},
     "output_type": "execute_result"
    }
   ],
   "source": [
    "df.axes"
   ]
  },
  {
   "cell_type": "code",
   "execution_count": 24,
   "id": "bef0fd32",
   "metadata": {
    "execution": {
     "iopub.execute_input": "2023-06-23T11:42:19.693893Z",
     "iopub.status.busy": "2023-06-23T11:42:19.693105Z",
     "iopub.status.idle": "2023-06-23T11:42:19.699447Z",
     "shell.execute_reply": "2023-06-23T11:42:19.698656Z"
    },
    "papermill": {
     "duration": 0.027303,
     "end_time": "2023-06-23T11:42:19.701676",
     "exception": false,
     "start_time": "2023-06-23T11:42:19.674373",
     "status": "completed"
    },
    "tags": []
   },
   "outputs": [
    {
     "data": {
      "text/plain": [
       "53079"
      ]
     },
     "execution_count": 24,
     "metadata": {},
     "output_type": "execute_result"
    }
   ],
   "source": [
    "\n",
    "df.size\n"
   ]
  },
  {
   "cell_type": "code",
   "execution_count": 25,
   "id": "4abce564",
   "metadata": {
    "execution": {
     "iopub.execute_input": "2023-06-23T11:42:19.738385Z",
     "iopub.status.busy": "2023-06-23T11:42:19.737604Z",
     "iopub.status.idle": "2023-06-23T11:42:19.743882Z",
     "shell.execute_reply": "2023-06-23T11:42:19.742981Z"
    },
    "papermill": {
     "duration": 0.027159,
     "end_time": "2023-06-23T11:42:19.746008",
     "exception": false,
     "start_time": "2023-06-23T11:42:19.718849",
     "status": "completed"
    },
    "tags": []
   },
   "outputs": [
    {
     "data": {
      "text/plain": [
       "2"
      ]
     },
     "execution_count": 25,
     "metadata": {},
     "output_type": "execute_result"
    }
   ],
   "source": [
    "df.ndim"
   ]
  },
  {
   "cell_type": "code",
   "execution_count": 26,
   "id": "514b3a94",
   "metadata": {
    "execution": {
     "iopub.execute_input": "2023-06-23T11:42:19.782954Z",
     "iopub.status.busy": "2023-06-23T11:42:19.782102Z",
     "iopub.status.idle": "2023-06-23T11:42:19.789432Z",
     "shell.execute_reply": "2023-06-23T11:42:19.787843Z"
    },
    "papermill": {
     "duration": 0.029234,
     "end_time": "2023-06-23T11:42:19.791942",
     "exception": false,
     "start_time": "2023-06-23T11:42:19.762708",
     "status": "completed"
    },
    "tags": []
   },
   "outputs": [
    {
     "data": {
      "text/plain": [
       "(17693, 3)"
      ]
     },
     "execution_count": 26,
     "metadata": {},
     "output_type": "execute_result"
    }
   ],
   "source": [
    "df.shape\n"
   ]
  },
  {
   "cell_type": "code",
   "execution_count": 27,
   "id": "89fefa85",
   "metadata": {
    "execution": {
     "iopub.execute_input": "2023-06-23T11:42:19.829640Z",
     "iopub.status.busy": "2023-06-23T11:42:19.828854Z",
     "iopub.status.idle": "2023-06-23T11:42:19.838408Z",
     "shell.execute_reply": "2023-06-23T11:42:19.837062Z"
    },
    "papermill": {
     "duration": 0.031457,
     "end_time": "2023-06-23T11:42:19.841005",
     "exception": false,
     "start_time": "2023-06-23T11:42:19.809548",
     "status": "completed"
    },
    "tags": []
   },
   "outputs": [
    {
     "data": {
      "text/plain": [
       "Index    669968\n",
       "Date1    141544\n",
       "Low      141544\n",
       "0        141544\n",
       "dtype: int64"
      ]
     },
     "execution_count": 27,
     "metadata": {},
     "output_type": "execute_result"
    }
   ],
   "source": [
    "df.memory_usage(index=True,deep=False)\n"
   ]
  },
  {
   "cell_type": "code",
   "execution_count": 28,
   "id": "b2c09577",
   "metadata": {
    "execution": {
     "iopub.execute_input": "2023-06-23T11:42:19.878345Z",
     "iopub.status.busy": "2023-06-23T11:42:19.877587Z",
     "iopub.status.idle": "2023-06-23T11:42:19.884435Z",
     "shell.execute_reply": "2023-06-23T11:42:19.883235Z"
    },
    "papermill": {
     "duration": 0.028687,
     "end_time": "2023-06-23T11:42:19.886957",
     "exception": false,
     "start_time": "2023-06-23T11:42:19.858270",
     "status": "completed"
    },
    "tags": []
   },
   "outputs": [
    {
     "data": {
      "text/plain": [
       "False"
      ]
     },
     "execution_count": 28,
     "metadata": {},
     "output_type": "execute_result"
    }
   ],
   "source": [
    "df.empty\n"
   ]
  },
  {
   "cell_type": "code",
   "execution_count": 29,
   "id": "46a4e46e",
   "metadata": {
    "execution": {
     "iopub.execute_input": "2023-06-23T11:42:19.926038Z",
     "iopub.status.busy": "2023-06-23T11:42:19.925232Z",
     "iopub.status.idle": "2023-06-23T11:42:19.932286Z",
     "shell.execute_reply": "2023-06-23T11:42:19.931484Z"
    },
    "papermill": {
     "duration": 0.028393,
     "end_time": "2023-06-23T11:42:19.934411",
     "exception": false,
     "start_time": "2023-06-23T11:42:19.906018",
     "status": "completed"
    },
    "tags": []
   },
   "outputs": [
    {
     "data": {
      "text/plain": [
       "True"
      ]
     },
     "execution_count": 29,
     "metadata": {},
     "output_type": "execute_result"
    }
   ],
   "source": [
    "df.flags.allows_duplicate_labels\n"
   ]
  },
  {
   "cell_type": "code",
   "execution_count": 30,
   "id": "bdd8ffa2",
   "metadata": {
    "execution": {
     "iopub.execute_input": "2023-06-23T11:42:19.972976Z",
     "iopub.status.busy": "2023-06-23T11:42:19.971721Z",
     "iopub.status.idle": "2023-06-23T11:42:19.989026Z",
     "shell.execute_reply": "2023-06-23T11:42:19.987507Z"
    },
    "papermill": {
     "duration": 0.039646,
     "end_time": "2023-06-23T11:42:19.991559",
     "exception": false,
     "start_time": "2023-06-23T11:42:19.951913",
     "status": "completed"
    },
    "tags": []
   },
   "outputs": [
    {
     "data": {
      "text/html": [
       "<div>\n",
       "<style scoped>\n",
       "    .dataframe tbody tr th:only-of-type {\n",
       "        vertical-align: middle;\n",
       "    }\n",
       "\n",
       "    .dataframe tbody tr th {\n",
       "        vertical-align: top;\n",
       "    }\n",
       "\n",
       "    .dataframe thead th {\n",
       "        text-align: right;\n",
       "    }\n",
       "</style>\n",
       "<table border=\"1\" class=\"dataframe\">\n",
       "  <thead>\n",
       "    <tr style=\"text-align: right;\">\n",
       "      <th></th>\n",
       "      <th>Date1</th>\n",
       "      <th>Low</th>\n",
       "      <th>0</th>\n",
       "    </tr>\n",
       "  </thead>\n",
       "  <tbody>\n",
       "    <tr>\n",
       "      <th>0</th>\n",
       "      <td>28-09-1994</td>\n",
       "      <td>6.888889</td>\n",
       "      <td>NaN</td>\n",
       "    </tr>\n",
       "    <tr>\n",
       "      <th>1</th>\n",
       "      <td>29-09-1994</td>\n",
       "      <td>7.111111</td>\n",
       "      <td>NaN</td>\n",
       "    </tr>\n",
       "    <tr>\n",
       "      <th>2</th>\n",
       "      <td>30-09-1994</td>\n",
       "      <td>7.111111</td>\n",
       "      <td>NaN</td>\n",
       "    </tr>\n",
       "    <tr>\n",
       "      <th>3</th>\n",
       "      <td>03-10-1994</td>\n",
       "      <td>7.333333</td>\n",
       "      <td>NaN</td>\n",
       "    </tr>\n",
       "    <tr>\n",
       "      <th>4</th>\n",
       "      <td>04-10-1994</td>\n",
       "      <td>7.222222</td>\n",
       "      <td>NaN</td>\n",
       "    </tr>\n",
       "    <tr>\n",
       "      <th>...</th>\n",
       "      <td>...</td>\n",
       "      <td>...</td>\n",
       "      <td>...</td>\n",
       "    </tr>\n",
       "    <tr>\n",
       "      <th>10585</th>\n",
       "      <td>NaN</td>\n",
       "      <td>NaN</td>\n",
       "      <td>06-12-2022</td>\n",
       "    </tr>\n",
       "    <tr>\n",
       "      <th>10586</th>\n",
       "      <td>NaN</td>\n",
       "      <td>NaN</td>\n",
       "      <td>07-12-2022</td>\n",
       "    </tr>\n",
       "    <tr>\n",
       "      <th>10587</th>\n",
       "      <td>NaN</td>\n",
       "      <td>NaN</td>\n",
       "      <td>08-12-2022</td>\n",
       "    </tr>\n",
       "    <tr>\n",
       "      <th>10588</th>\n",
       "      <td>NaN</td>\n",
       "      <td>NaN</td>\n",
       "      <td>09-12-2022</td>\n",
       "    </tr>\n",
       "    <tr>\n",
       "      <th>10589</th>\n",
       "      <td>NaN</td>\n",
       "      <td>NaN</td>\n",
       "      <td>12-12-2022</td>\n",
       "    </tr>\n",
       "  </tbody>\n",
       "</table>\n",
       "<p>17693 rows × 3 columns</p>\n",
       "</div>"
      ],
      "text/plain": [
       "            Date1       Low           0\n",
       "0      28-09-1994  6.888889         NaN\n",
       "1      29-09-1994  7.111111         NaN\n",
       "2      30-09-1994  7.111111         NaN\n",
       "3      03-10-1994  7.333333         NaN\n",
       "4      04-10-1994  7.222222         NaN\n",
       "...           ...       ...         ...\n",
       "10585         NaN       NaN  06-12-2022\n",
       "10586         NaN       NaN  07-12-2022\n",
       "10587         NaN       NaN  08-12-2022\n",
       "10588         NaN       NaN  09-12-2022\n",
       "10589         NaN       NaN  12-12-2022\n",
       "\n",
       "[17693 rows x 3 columns]"
      ]
     },
     "execution_count": 30,
     "metadata": {},
     "output_type": "execute_result"
    }
   ],
   "source": [
    "df.set_flags(allows_duplicate_labels = True)"
   ]
  },
  {
   "cell_type": "code",
   "execution_count": 31,
   "id": "d8cf0980",
   "metadata": {
    "execution": {
     "iopub.execute_input": "2023-06-23T11:42:20.031574Z",
     "iopub.status.busy": "2023-06-23T11:42:20.030701Z",
     "iopub.status.idle": "2023-06-23T11:42:20.045456Z",
     "shell.execute_reply": "2023-06-23T11:42:20.044161Z"
    },
    "papermill": {
     "duration": 0.038379,
     "end_time": "2023-06-23T11:42:20.048375",
     "exception": false,
     "start_time": "2023-06-23T11:42:20.009996",
     "status": "completed"
    },
    "tags": []
   },
   "outputs": [
    {
     "data": {
      "text/plain": [
       "0       6\n",
       "1       7\n",
       "2       7\n",
       "3       7\n",
       "4       7\n",
       "       ..\n",
       "7098    4\n",
       "7099    4\n",
       "7100    4\n",
       "7101    4\n",
       "7102    4\n",
       "Name: Low, Length: 7103, dtype: int32"
      ]
     },
     "execution_count": 31,
     "metadata": {},
     "output_type": "execute_result"
    }
   ],
   "source": [
    "df['Low'].dropna().astype('int32')\n"
   ]
  },
  {
   "cell_type": "code",
   "execution_count": 32,
   "id": "e853331f",
   "metadata": {
    "execution": {
     "iopub.execute_input": "2023-06-23T11:42:20.087867Z",
     "iopub.status.busy": "2023-06-23T11:42:20.086619Z",
     "iopub.status.idle": "2023-06-23T11:42:20.115548Z",
     "shell.execute_reply": "2023-06-23T11:42:20.114404Z"
    },
    "papermill": {
     "duration": 0.051617,
     "end_time": "2023-06-23T11:42:20.118487",
     "exception": false,
     "start_time": "2023-06-23T11:42:20.066870",
     "status": "completed"
    },
    "tags": []
   },
   "outputs": [
    {
     "data": {
      "text/html": [
       "<div>\n",
       "<style scoped>\n",
       "    .dataframe tbody tr th:only-of-type {\n",
       "        vertical-align: middle;\n",
       "    }\n",
       "\n",
       "    .dataframe tbody tr th {\n",
       "        vertical-align: top;\n",
       "    }\n",
       "\n",
       "    .dataframe thead th {\n",
       "        text-align: right;\n",
       "    }\n",
       "</style>\n",
       "<table border=\"1\" class=\"dataframe\">\n",
       "  <thead>\n",
       "    <tr style=\"text-align: right;\">\n",
       "      <th></th>\n",
       "      <th>Date1</th>\n",
       "      <th>Low</th>\n",
       "      <th>0</th>\n",
       "    </tr>\n",
       "  </thead>\n",
       "  <tbody>\n",
       "    <tr>\n",
       "      <th>0</th>\n",
       "      <td>28-09-1994</td>\n",
       "      <td>6.888889</td>\n",
       "      <td>&lt;NA&gt;</td>\n",
       "    </tr>\n",
       "    <tr>\n",
       "      <th>1</th>\n",
       "      <td>29-09-1994</td>\n",
       "      <td>7.111111</td>\n",
       "      <td>&lt;NA&gt;</td>\n",
       "    </tr>\n",
       "    <tr>\n",
       "      <th>2</th>\n",
       "      <td>30-09-1994</td>\n",
       "      <td>7.111111</td>\n",
       "      <td>&lt;NA&gt;</td>\n",
       "    </tr>\n",
       "    <tr>\n",
       "      <th>3</th>\n",
       "      <td>03-10-1994</td>\n",
       "      <td>7.333333</td>\n",
       "      <td>&lt;NA&gt;</td>\n",
       "    </tr>\n",
       "    <tr>\n",
       "      <th>4</th>\n",
       "      <td>04-10-1994</td>\n",
       "      <td>7.222222</td>\n",
       "      <td>&lt;NA&gt;</td>\n",
       "    </tr>\n",
       "    <tr>\n",
       "      <th>...</th>\n",
       "      <td>...</td>\n",
       "      <td>...</td>\n",
       "      <td>...</td>\n",
       "    </tr>\n",
       "    <tr>\n",
       "      <th>10585</th>\n",
       "      <td>&lt;NA&gt;</td>\n",
       "      <td>&lt;NA&gt;</td>\n",
       "      <td>06-12-2022</td>\n",
       "    </tr>\n",
       "    <tr>\n",
       "      <th>10586</th>\n",
       "      <td>&lt;NA&gt;</td>\n",
       "      <td>&lt;NA&gt;</td>\n",
       "      <td>07-12-2022</td>\n",
       "    </tr>\n",
       "    <tr>\n",
       "      <th>10587</th>\n",
       "      <td>&lt;NA&gt;</td>\n",
       "      <td>&lt;NA&gt;</td>\n",
       "      <td>08-12-2022</td>\n",
       "    </tr>\n",
       "    <tr>\n",
       "      <th>10588</th>\n",
       "      <td>&lt;NA&gt;</td>\n",
       "      <td>&lt;NA&gt;</td>\n",
       "      <td>09-12-2022</td>\n",
       "    </tr>\n",
       "    <tr>\n",
       "      <th>10589</th>\n",
       "      <td>&lt;NA&gt;</td>\n",
       "      <td>&lt;NA&gt;</td>\n",
       "      <td>12-12-2022</td>\n",
       "    </tr>\n",
       "  </tbody>\n",
       "</table>\n",
       "<p>17693 rows × 3 columns</p>\n",
       "</div>"
      ],
      "text/plain": [
       "            Date1       Low           0\n",
       "0      28-09-1994  6.888889        <NA>\n",
       "1      29-09-1994  7.111111        <NA>\n",
       "2      30-09-1994  7.111111        <NA>\n",
       "3      03-10-1994  7.333333        <NA>\n",
       "4      04-10-1994  7.222222        <NA>\n",
       "...           ...       ...         ...\n",
       "10585        <NA>      <NA>  06-12-2022\n",
       "10586        <NA>      <NA>  07-12-2022\n",
       "10587        <NA>      <NA>  08-12-2022\n",
       "10588        <NA>      <NA>  09-12-2022\n",
       "10589        <NA>      <NA>  12-12-2022\n",
       "\n",
       "[17693 rows x 3 columns]"
      ]
     },
     "execution_count": 32,
     "metadata": {},
     "output_type": "execute_result"
    }
   ],
   "source": [
    "df.convert_dtypes()"
   ]
  },
  {
   "cell_type": "code",
   "execution_count": 33,
   "id": "71442b9b",
   "metadata": {
    "execution": {
     "iopub.execute_input": "2023-06-23T11:42:20.158424Z",
     "iopub.status.busy": "2023-06-23T11:42:20.158012Z",
     "iopub.status.idle": "2023-06-23T11:42:20.175306Z",
     "shell.execute_reply": "2023-06-23T11:42:20.173870Z"
    },
    "papermill": {
     "duration": 0.040824,
     "end_time": "2023-06-23T11:42:20.178439",
     "exception": false,
     "start_time": "2023-06-23T11:42:20.137615",
     "status": "completed"
    },
    "tags": []
   },
   "outputs": [
    {
     "data": {
      "text/html": [
       "<div>\n",
       "<style scoped>\n",
       "    .dataframe tbody tr th:only-of-type {\n",
       "        vertical-align: middle;\n",
       "    }\n",
       "\n",
       "    .dataframe tbody tr th {\n",
       "        vertical-align: top;\n",
       "    }\n",
       "\n",
       "    .dataframe thead th {\n",
       "        text-align: right;\n",
       "    }\n",
       "</style>\n",
       "<table border=\"1\" class=\"dataframe\">\n",
       "  <thead>\n",
       "    <tr style=\"text-align: right;\">\n",
       "      <th></th>\n",
       "      <th>Date1</th>\n",
       "      <th>Low</th>\n",
       "      <th>0</th>\n",
       "    </tr>\n",
       "  </thead>\n",
       "  <tbody>\n",
       "    <tr>\n",
       "      <th>0</th>\n",
       "      <td>28-09-1994</td>\n",
       "      <td>6.888889</td>\n",
       "      <td>NaN</td>\n",
       "    </tr>\n",
       "    <tr>\n",
       "      <th>1</th>\n",
       "      <td>29-09-1994</td>\n",
       "      <td>7.111111</td>\n",
       "      <td>NaN</td>\n",
       "    </tr>\n",
       "    <tr>\n",
       "      <th>2</th>\n",
       "      <td>30-09-1994</td>\n",
       "      <td>7.111111</td>\n",
       "      <td>NaN</td>\n",
       "    </tr>\n",
       "    <tr>\n",
       "      <th>3</th>\n",
       "      <td>03-10-1994</td>\n",
       "      <td>7.333333</td>\n",
       "      <td>NaN</td>\n",
       "    </tr>\n",
       "    <tr>\n",
       "      <th>4</th>\n",
       "      <td>04-10-1994</td>\n",
       "      <td>7.222222</td>\n",
       "      <td>NaN</td>\n",
       "    </tr>\n",
       "    <tr>\n",
       "      <th>...</th>\n",
       "      <td>...</td>\n",
       "      <td>...</td>\n",
       "      <td>...</td>\n",
       "    </tr>\n",
       "    <tr>\n",
       "      <th>10585</th>\n",
       "      <td>NaN</td>\n",
       "      <td>NaN</td>\n",
       "      <td>06-12-2022</td>\n",
       "    </tr>\n",
       "    <tr>\n",
       "      <th>10586</th>\n",
       "      <td>NaN</td>\n",
       "      <td>NaN</td>\n",
       "      <td>07-12-2022</td>\n",
       "    </tr>\n",
       "    <tr>\n",
       "      <th>10587</th>\n",
       "      <td>NaN</td>\n",
       "      <td>NaN</td>\n",
       "      <td>08-12-2022</td>\n",
       "    </tr>\n",
       "    <tr>\n",
       "      <th>10588</th>\n",
       "      <td>NaN</td>\n",
       "      <td>NaN</td>\n",
       "      <td>09-12-2022</td>\n",
       "    </tr>\n",
       "    <tr>\n",
       "      <th>10589</th>\n",
       "      <td>NaN</td>\n",
       "      <td>NaN</td>\n",
       "      <td>12-12-2022</td>\n",
       "    </tr>\n",
       "  </tbody>\n",
       "</table>\n",
       "<p>17693 rows × 3 columns</p>\n",
       "</div>"
      ],
      "text/plain": [
       "            Date1       Low           0\n",
       "0      28-09-1994  6.888889         NaN\n",
       "1      29-09-1994  7.111111         NaN\n",
       "2      30-09-1994  7.111111         NaN\n",
       "3      03-10-1994  7.333333         NaN\n",
       "4      04-10-1994  7.222222         NaN\n",
       "...           ...       ...         ...\n",
       "10585         NaN       NaN  06-12-2022\n",
       "10586         NaN       NaN  07-12-2022\n",
       "10587         NaN       NaN  08-12-2022\n",
       "10588         NaN       NaN  09-12-2022\n",
       "10589         NaN       NaN  12-12-2022\n",
       "\n",
       "[17693 rows x 3 columns]"
      ]
     },
     "execution_count": 33,
     "metadata": {},
     "output_type": "execute_result"
    }
   ],
   "source": [
    "df.infer_objects()"
   ]
  },
  {
   "cell_type": "code",
   "execution_count": 34,
   "id": "2f7233e6",
   "metadata": {
    "execution": {
     "iopub.execute_input": "2023-06-23T11:42:20.220547Z",
     "iopub.status.busy": "2023-06-23T11:42:20.219078Z",
     "iopub.status.idle": "2023-06-23T11:42:20.239921Z",
     "shell.execute_reply": "2023-06-23T11:42:20.238385Z"
    },
    "papermill": {
     "duration": 0.043829,
     "end_time": "2023-06-23T11:42:20.242492",
     "exception": false,
     "start_time": "2023-06-23T11:42:20.198663",
     "status": "completed"
    },
    "tags": []
   },
   "outputs": [
    {
     "data": {
      "text/html": [
       "<div>\n",
       "<style scoped>\n",
       "    .dataframe tbody tr th:only-of-type {\n",
       "        vertical-align: middle;\n",
       "    }\n",
       "\n",
       "    .dataframe tbody tr th {\n",
       "        vertical-align: top;\n",
       "    }\n",
       "\n",
       "    .dataframe thead th {\n",
       "        text-align: right;\n",
       "    }\n",
       "</style>\n",
       "<table border=\"1\" class=\"dataframe\">\n",
       "  <thead>\n",
       "    <tr style=\"text-align: right;\">\n",
       "      <th></th>\n",
       "      <th>Date1</th>\n",
       "      <th>Low</th>\n",
       "      <th>0</th>\n",
       "    </tr>\n",
       "  </thead>\n",
       "  <tbody>\n",
       "    <tr>\n",
       "      <th>0</th>\n",
       "      <td>28-09-1994</td>\n",
       "      <td>6.888889</td>\n",
       "      <td>NaN</td>\n",
       "    </tr>\n",
       "    <tr>\n",
       "      <th>1</th>\n",
       "      <td>29-09-1994</td>\n",
       "      <td>7.111111</td>\n",
       "      <td>NaN</td>\n",
       "    </tr>\n",
       "    <tr>\n",
       "      <th>2</th>\n",
       "      <td>30-09-1994</td>\n",
       "      <td>7.111111</td>\n",
       "      <td>NaN</td>\n",
       "    </tr>\n",
       "    <tr>\n",
       "      <th>3</th>\n",
       "      <td>03-10-1994</td>\n",
       "      <td>7.333333</td>\n",
       "      <td>NaN</td>\n",
       "    </tr>\n",
       "    <tr>\n",
       "      <th>4</th>\n",
       "      <td>04-10-1994</td>\n",
       "      <td>7.222222</td>\n",
       "      <td>NaN</td>\n",
       "    </tr>\n",
       "    <tr>\n",
       "      <th>...</th>\n",
       "      <td>...</td>\n",
       "      <td>...</td>\n",
       "      <td>...</td>\n",
       "    </tr>\n",
       "    <tr>\n",
       "      <th>10585</th>\n",
       "      <td>NaN</td>\n",
       "      <td>NaN</td>\n",
       "      <td>06-12-2022</td>\n",
       "    </tr>\n",
       "    <tr>\n",
       "      <th>10586</th>\n",
       "      <td>NaN</td>\n",
       "      <td>NaN</td>\n",
       "      <td>07-12-2022</td>\n",
       "    </tr>\n",
       "    <tr>\n",
       "      <th>10587</th>\n",
       "      <td>NaN</td>\n",
       "      <td>NaN</td>\n",
       "      <td>08-12-2022</td>\n",
       "    </tr>\n",
       "    <tr>\n",
       "      <th>10588</th>\n",
       "      <td>NaN</td>\n",
       "      <td>NaN</td>\n",
       "      <td>09-12-2022</td>\n",
       "    </tr>\n",
       "    <tr>\n",
       "      <th>10589</th>\n",
       "      <td>NaN</td>\n",
       "      <td>NaN</td>\n",
       "      <td>12-12-2022</td>\n",
       "    </tr>\n",
       "  </tbody>\n",
       "</table>\n",
       "<p>17693 rows × 3 columns</p>\n",
       "</div>"
      ],
      "text/plain": [
       "            Date1       Low           0\n",
       "0      28-09-1994  6.888889         NaN\n",
       "1      29-09-1994  7.111111         NaN\n",
       "2      30-09-1994  7.111111         NaN\n",
       "3      03-10-1994  7.333333         NaN\n",
       "4      04-10-1994  7.222222         NaN\n",
       "...           ...       ...         ...\n",
       "10585         NaN       NaN  06-12-2022\n",
       "10586         NaN       NaN  07-12-2022\n",
       "10587         NaN       NaN  08-12-2022\n",
       "10588         NaN       NaN  09-12-2022\n",
       "10589         NaN       NaN  12-12-2022\n",
       "\n",
       "[17693 rows x 3 columns]"
      ]
     },
     "execution_count": 34,
     "metadata": {},
     "output_type": "execute_result"
    }
   ],
   "source": [
    "df.copy(deep= True)\n"
   ]
  },
  {
   "cell_type": "code",
   "execution_count": 35,
   "id": "b04aee68",
   "metadata": {
    "execution": {
     "iopub.execute_input": "2023-06-23T11:42:20.282163Z",
     "iopub.status.busy": "2023-06-23T11:42:20.281750Z",
     "iopub.status.idle": "2023-06-23T11:42:20.290276Z",
     "shell.execute_reply": "2023-06-23T11:42:20.288895Z"
    },
    "papermill": {
     "duration": 0.031488,
     "end_time": "2023-06-23T11:42:20.292713",
     "exception": false,
     "start_time": "2023-06-23T11:42:20.261225",
     "status": "completed"
    },
    "tags": []
   },
   "outputs": [
    {
     "data": {
      "text/plain": [
       "True"
      ]
     },
     "execution_count": 35,
     "metadata": {},
     "output_type": "execute_result"
    }
   ],
   "source": [
    "pd.Series([True]).bool()\n"
   ]
  },
  {
   "cell_type": "code",
   "execution_count": 36,
   "id": "8cf08e65",
   "metadata": {
    "execution": {
     "iopub.execute_input": "2023-06-23T11:42:20.333551Z",
     "iopub.status.busy": "2023-06-23T11:42:20.332421Z",
     "iopub.status.idle": "2023-06-23T11:42:20.344639Z",
     "shell.execute_reply": "2023-06-23T11:42:20.343451Z"
    },
    "papermill": {
     "duration": 0.035213,
     "end_time": "2023-06-23T11:42:20.347178",
     "exception": false,
     "start_time": "2023-06-23T11:42:20.311965",
     "status": "completed"
    },
    "tags": []
   },
   "outputs": [
    {
     "data": {
      "text/html": [
       "<div>\n",
       "<style scoped>\n",
       "    .dataframe tbody tr th:only-of-type {\n",
       "        vertical-align: middle;\n",
       "    }\n",
       "\n",
       "    .dataframe tbody tr th {\n",
       "        vertical-align: top;\n",
       "    }\n",
       "\n",
       "    .dataframe thead th {\n",
       "        text-align: right;\n",
       "    }\n",
       "</style>\n",
       "<table border=\"1\" class=\"dataframe\">\n",
       "  <thead>\n",
       "    <tr style=\"text-align: right;\">\n",
       "      <th></th>\n",
       "      <th>Date1</th>\n",
       "      <th>Low</th>\n",
       "      <th>0</th>\n",
       "    </tr>\n",
       "  </thead>\n",
       "  <tbody>\n",
       "    <tr>\n",
       "      <th>0</th>\n",
       "      <td>28-09-1994</td>\n",
       "      <td>6.888889</td>\n",
       "      <td>NaN</td>\n",
       "    </tr>\n",
       "    <tr>\n",
       "      <th>1</th>\n",
       "      <td>29-09-1994</td>\n",
       "      <td>7.111111</td>\n",
       "      <td>NaN</td>\n",
       "    </tr>\n",
       "  </tbody>\n",
       "</table>\n",
       "</div>"
      ],
      "text/plain": [
       "        Date1       Low    0\n",
       "0  28-09-1994  6.888889  NaN\n",
       "1  29-09-1994  7.111111  NaN"
      ]
     },
     "execution_count": 36,
     "metadata": {},
     "output_type": "execute_result"
    }
   ],
   "source": [
    "df.head(2)\n",
    "\n"
   ]
  },
  {
   "cell_type": "code",
   "execution_count": 37,
   "id": "77e1d3dd",
   "metadata": {
    "execution": {
     "iopub.execute_input": "2023-06-23T11:42:20.387870Z",
     "iopub.status.busy": "2023-06-23T11:42:20.387354Z",
     "iopub.status.idle": "2023-06-23T11:42:20.398157Z",
     "shell.execute_reply": "2023-06-23T11:42:20.396757Z"
    },
    "papermill": {
     "duration": 0.033886,
     "end_time": "2023-06-23T11:42:20.400738",
     "exception": false,
     "start_time": "2023-06-23T11:42:20.366852",
     "status": "completed"
    },
    "tags": []
   },
   "outputs": [
    {
     "data": {
      "text/plain": [
       "0           NaN\n",
       "0    12-12-1980\n",
       "Name: 0, dtype: object"
      ]
     },
     "execution_count": 37,
     "metadata": {},
     "output_type": "execute_result"
    }
   ],
   "source": [
    "df.at[0,0]\n"
   ]
  },
  {
   "cell_type": "code",
   "execution_count": 38,
   "id": "f6fe693c",
   "metadata": {
    "execution": {
     "iopub.execute_input": "2023-06-23T11:42:20.442527Z",
     "iopub.status.busy": "2023-06-23T11:42:20.442019Z",
     "iopub.status.idle": "2023-06-23T11:42:20.451396Z",
     "shell.execute_reply": "2023-06-23T11:42:20.449891Z"
    },
    "papermill": {
     "duration": 0.033121,
     "end_time": "2023-06-23T11:42:20.454081",
     "exception": false,
     "start_time": "2023-06-23T11:42:20.420960",
     "status": "completed"
    },
    "tags": []
   },
   "outputs": [
    {
     "data": {
      "text/plain": [
       "6.888888835906982"
      ]
     },
     "execution_count": 38,
     "metadata": {},
     "output_type": "execute_result"
    }
   ],
   "source": [
    "df.iat[0,1]\n"
   ]
  },
  {
   "cell_type": "code",
   "execution_count": 39,
   "id": "f620a910",
   "metadata": {
    "execution": {
     "iopub.execute_input": "2023-06-23T11:42:20.495089Z",
     "iopub.status.busy": "2023-06-23T11:42:20.494602Z",
     "iopub.status.idle": "2023-06-23T11:42:20.512502Z",
     "shell.execute_reply": "2023-06-23T11:42:20.511166Z"
    },
    "papermill": {
     "duration": 0.041676,
     "end_time": "2023-06-23T11:42:20.515094",
     "exception": false,
     "start_time": "2023-06-23T11:42:20.473418",
     "status": "completed"
    },
    "tags": []
   },
   "outputs": [
    {
     "data": {
      "text/html": [
       "<div>\n",
       "<style scoped>\n",
       "    .dataframe tbody tr th:only-of-type {\n",
       "        vertical-align: middle;\n",
       "    }\n",
       "\n",
       "    .dataframe tbody tr th {\n",
       "        vertical-align: top;\n",
       "    }\n",
       "\n",
       "    .dataframe thead th {\n",
       "        text-align: right;\n",
       "    }\n",
       "</style>\n",
       "<table border=\"1\" class=\"dataframe\">\n",
       "  <thead>\n",
       "    <tr style=\"text-align: right;\">\n",
       "      <th></th>\n",
       "      <th>Date1</th>\n",
       "      <th>0</th>\n",
       "    </tr>\n",
       "  </thead>\n",
       "  <tbody>\n",
       "    <tr>\n",
       "      <th>0</th>\n",
       "      <td>28-09-1994</td>\n",
       "      <td>NaN</td>\n",
       "    </tr>\n",
       "    <tr>\n",
       "      <th>1</th>\n",
       "      <td>29-09-1994</td>\n",
       "      <td>NaN</td>\n",
       "    </tr>\n",
       "    <tr>\n",
       "      <th>2</th>\n",
       "      <td>30-09-1994</td>\n",
       "      <td>NaN</td>\n",
       "    </tr>\n",
       "    <tr>\n",
       "      <th>3</th>\n",
       "      <td>03-10-1994</td>\n",
       "      <td>NaN</td>\n",
       "    </tr>\n",
       "    <tr>\n",
       "      <th>4</th>\n",
       "      <td>04-10-1994</td>\n",
       "      <td>NaN</td>\n",
       "    </tr>\n",
       "    <tr>\n",
       "      <th>...</th>\n",
       "      <td>...</td>\n",
       "      <td>...</td>\n",
       "    </tr>\n",
       "    <tr>\n",
       "      <th>10585</th>\n",
       "      <td>NaN</td>\n",
       "      <td>06-12-2022</td>\n",
       "    </tr>\n",
       "    <tr>\n",
       "      <th>10586</th>\n",
       "      <td>NaN</td>\n",
       "      <td>07-12-2022</td>\n",
       "    </tr>\n",
       "    <tr>\n",
       "      <th>10587</th>\n",
       "      <td>NaN</td>\n",
       "      <td>08-12-2022</td>\n",
       "    </tr>\n",
       "    <tr>\n",
       "      <th>10588</th>\n",
       "      <td>NaN</td>\n",
       "      <td>09-12-2022</td>\n",
       "    </tr>\n",
       "    <tr>\n",
       "      <th>10589</th>\n",
       "      <td>NaN</td>\n",
       "      <td>12-12-2022</td>\n",
       "    </tr>\n",
       "  </tbody>\n",
       "</table>\n",
       "<p>17693 rows × 2 columns</p>\n",
       "</div>"
      ],
      "text/plain": [
       "            Date1           0\n",
       "0      28-09-1994         NaN\n",
       "1      29-09-1994         NaN\n",
       "2      30-09-1994         NaN\n",
       "3      03-10-1994         NaN\n",
       "4      04-10-1994         NaN\n",
       "...           ...         ...\n",
       "10585         NaN  06-12-2022\n",
       "10586         NaN  07-12-2022\n",
       "10587         NaN  08-12-2022\n",
       "10588         NaN  09-12-2022\n",
       "10589         NaN  12-12-2022\n",
       "\n",
       "[17693 rows x 2 columns]"
      ]
     },
     "execution_count": 39,
     "metadata": {},
     "output_type": "execute_result"
    }
   ],
   "source": [
    "df.loc[:,['Date1',0]]"
   ]
  },
  {
   "cell_type": "code",
   "execution_count": 40,
   "id": "ccf6f7ca",
   "metadata": {
    "execution": {
     "iopub.execute_input": "2023-06-23T11:42:20.556832Z",
     "iopub.status.busy": "2023-06-23T11:42:20.556335Z",
     "iopub.status.idle": "2023-06-23T11:42:20.561815Z",
     "shell.execute_reply": "2023-06-23T11:42:20.560670Z"
    },
    "papermill": {
     "duration": 0.028954,
     "end_time": "2023-06-23T11:42:20.564019",
     "exception": false,
     "start_time": "2023-06-23T11:42:20.535065",
     "status": "completed"
    },
    "tags": []
   },
   "outputs": [],
   "source": [
    "#df.iloc[0:1.3]"
   ]
  },
  {
   "cell_type": "code",
   "execution_count": 41,
   "id": "815eae87",
   "metadata": {
    "execution": {
     "iopub.execute_input": "2023-06-23T11:42:20.605357Z",
     "iopub.status.busy": "2023-06-23T11:42:20.604856Z",
     "iopub.status.idle": "2023-06-23T11:42:20.614456Z",
     "shell.execute_reply": "2023-06-23T11:42:20.613504Z"
    },
    "papermill": {
     "duration": 0.033105,
     "end_time": "2023-06-23T11:42:20.616681",
     "exception": false,
     "start_time": "2023-06-23T11:42:20.583576",
     "status": "completed"
    },
    "tags": []
   },
   "outputs": [],
   "source": [
    "df.insert(0, \"col1\",pd.Series(range(17693)))"
   ]
  },
  {
   "cell_type": "code",
   "execution_count": 42,
   "id": "64dca346",
   "metadata": {
    "execution": {
     "iopub.execute_input": "2023-06-23T11:42:20.657880Z",
     "iopub.status.busy": "2023-06-23T11:42:20.657363Z",
     "iopub.status.idle": "2023-06-23T11:42:20.665570Z",
     "shell.execute_reply": "2023-06-23T11:42:20.664375Z"
    },
    "papermill": {
     "duration": 0.031731,
     "end_time": "2023-06-23T11:42:20.667889",
     "exception": false,
     "start_time": "2023-06-23T11:42:20.636158",
     "status": "completed"
    },
    "tags": []
   },
   "outputs": [
    {
     "data": {
      "text/plain": [
       "<map at 0x78fa0d728e20>"
      ]
     },
     "execution_count": 42,
     "metadata": {},
     "output_type": "execute_result"
    }
   ],
   "source": [
    "df.__iter__()"
   ]
  },
  {
   "cell_type": "code",
   "execution_count": 43,
   "id": "3285d1b2",
   "metadata": {
    "execution": {
     "iopub.execute_input": "2023-06-23T11:42:20.709169Z",
     "iopub.status.busy": "2023-06-23T11:42:20.708787Z",
     "iopub.status.idle": "2023-06-23T11:42:20.716768Z",
     "shell.execute_reply": "2023-06-23T11:42:20.715878Z"
    },
    "papermill": {
     "duration": 0.032652,
     "end_time": "2023-06-23T11:42:20.720213",
     "exception": false,
     "start_time": "2023-06-23T11:42:20.687561",
     "status": "completed"
    },
    "tags": []
   },
   "outputs": [
    {
     "name": "stdout",
     "output_type": "stream",
     "text": [
      "('col1', 0            0\n",
      "1            1\n",
      "2            2\n",
      "3            3\n",
      "4            4\n",
      "         ...  \n",
      "10585    10585\n",
      "10586    10586\n",
      "10587    10587\n",
      "10588    10588\n",
      "10589    10589\n",
      "Name: col1, Length: 17693, dtype: int64)\n"
     ]
    }
   ],
   "source": [
    "for i in df.items():\n",
    "    print(i)\n",
    "    break"
   ]
  },
  {
   "cell_type": "code",
   "execution_count": 44,
   "id": "f2397784",
   "metadata": {
    "execution": {
     "iopub.execute_input": "2023-06-23T11:42:20.764367Z",
     "iopub.status.busy": "2023-06-23T11:42:20.763941Z",
     "iopub.status.idle": "2023-06-23T11:42:20.769095Z",
     "shell.execute_reply": "2023-06-23T11:42:20.767759Z"
    },
    "papermill": {
     "duration": 0.030915,
     "end_time": "2023-06-23T11:42:20.772136",
     "exception": false,
     "start_time": "2023-06-23T11:42:20.741221",
     "status": "completed"
    },
    "tags": []
   },
   "outputs": [],
   "source": [
    "#df.keys()"
   ]
  },
  {
   "cell_type": "code",
   "execution_count": 45,
   "id": "0304b7a4",
   "metadata": {
    "execution": {
     "iopub.execute_input": "2023-06-23T11:42:20.815369Z",
     "iopub.status.busy": "2023-06-23T11:42:20.815000Z",
     "iopub.status.idle": "2023-06-23T11:42:20.823502Z",
     "shell.execute_reply": "2023-06-23T11:42:20.822135Z"
    },
    "papermill": {
     "duration": 0.033687,
     "end_time": "2023-06-23T11:42:20.826535",
     "exception": false,
     "start_time": "2023-06-23T11:42:20.792848",
     "status": "completed"
    },
    "tags": []
   },
   "outputs": [
    {
     "data": {
      "text/plain": [
       "'\\n\\ndf.iterrows()\\ndf.itertuples()\\ndf.pop(\\'Name\\')\\ndf.tail()\\ndf.xs(\\'Name\\')\\ndf.get([\"temp_celsius\", \"temp_kelvin\"])\\ndf.isin()\\ndf.where()\\ndf.mask()\\ndf.query()\\ndf.__add__\\ndf.add(5)\\ndf.sub(4)\\ndf.mul(2)\\ndf.div(3)\\ndf.truediv(2)\\ndf.floordiv(5)\\ndf.mod(4)\\ndf.pow(2)\\ndf.dot(df1)\\ndf.radd\\ndf.rsub\\ndf.rmul\\ndf.rdiv\\ndf.rtruediv\\ndf.rfloordiv\\ndf.rmod\\ndf.rpow\\n\\n\\n'"
      ]
     },
     "execution_count": 45,
     "metadata": {},
     "output_type": "execute_result"
    }
   ],
   "source": [
    "\n",
    "\n",
    "\n",
    "'''\n",
    "\n",
    "df.iterrows()\n",
    "df.itertuples()\n",
    "df.pop('Name')\n",
    "df.tail()\n",
    "df.xs('Name')\n",
    "df.get([\"temp_celsius\", \"temp_kelvin\"])\n",
    "df.isin()\n",
    "df.where()\n",
    "df.mask()\n",
    "df.query()\n",
    "df.__add__\n",
    "df.add(5)\n",
    "df.sub(4)\n",
    "df.mul(2)\n",
    "df.div(3)\n",
    "df.truediv(2)\n",
    "df.floordiv(5)\n",
    "df.mod(4)\n",
    "df.pow(2)\n",
    "df.dot(df1)\n",
    "df.radd\n",
    "df.rsub\n",
    "df.rmul\n",
    "df.rdiv\n",
    "df.rtruediv\n",
    "df.rfloordiv\n",
    "df.rmod\n",
    "df.rpow\n",
    "\n",
    "\n",
    "'''"
   ]
  },
  {
   "cell_type": "code",
   "execution_count": null,
   "id": "ad421a8e",
   "metadata": {
    "papermill": {
     "duration": 0.021025,
     "end_time": "2023-06-23T11:42:20.868285",
     "exception": false,
     "start_time": "2023-06-23T11:42:20.847260",
     "status": "completed"
    },
    "tags": []
   },
   "outputs": [],
   "source": []
  }
 ],
 "metadata": {
  "kernelspec": {
   "display_name": "Python 3",
   "language": "python",
   "name": "python3"
  },
  "language_info": {
   "codemirror_mode": {
    "name": "ipython",
    "version": 3
   },
   "file_extension": ".py",
   "mimetype": "text/x-python",
   "name": "python",
   "nbconvert_exporter": "python",
   "pygments_lexer": "ipython3",
   "version": "3.10.10"
  },
  "papermill": {
   "default_parameters": {},
   "duration": 17.474278,
   "end_time": "2023-06-23T11:42:21.915568",
   "environment_variables": {},
   "exception": null,
   "input_path": "__notebook__.ipynb",
   "output_path": "__notebook__.ipynb",
   "parameters": {},
   "start_time": "2023-06-23T11:42:04.441290",
   "version": "2.4.0"
  }
 },
 "nbformat": 4,
 "nbformat_minor": 5
}
