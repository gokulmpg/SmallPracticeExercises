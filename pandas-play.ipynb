{
 "cells": [
  {
   "cell_type": "code",
   "execution_count": 1,
   "id": "45c047d3",
   "metadata": {
    "_cell_guid": "b1076dfc-b9ad-4769-8c92-a6c4dae69d19",
    "_uuid": "8f2839f25d086af736a60e9eeb907d3b93b6e0e5",
    "execution": {
     "iopub.execute_input": "2023-06-22T20:05:16.515601Z",
     "iopub.status.busy": "2023-06-22T20:05:16.515182Z",
     "iopub.status.idle": "2023-06-22T20:05:16.526183Z",
     "shell.execute_reply": "2023-06-22T20:05:16.525382Z"
    },
    "papermill": {
     "duration": 0.021012,
     "end_time": "2023-06-22T20:05:16.528384",
     "exception": false,
     "start_time": "2023-06-22T20:05:16.507372",
     "status": "completed"
    },
    "tags": []
   },
   "outputs": [],
   "source": [
    "import numpy as np\n",
    "import pandas as pd "
   ]
  },
  {
   "cell_type": "code",
   "execution_count": 2,
   "id": "57e2ea12",
   "metadata": {
    "execution": {
     "iopub.execute_input": "2023-06-22T20:05:16.541784Z",
     "iopub.status.busy": "2023-06-22T20:05:16.541123Z",
     "iopub.status.idle": "2023-06-22T20:05:16.601496Z",
     "shell.execute_reply": "2023-06-22T20:05:16.600355Z"
    },
    "papermill": {
     "duration": 0.07014,
     "end_time": "2023-06-22T20:05:16.604265",
     "exception": false,
     "start_time": "2023-06-22T20:05:16.534125",
     "status": "completed"
    },
    "tags": []
   },
   "outputs": [],
   "source": [
    "appl = pd.read_csv(\"../input/stock-market-data/stock_market_data/nasdaq/csv/AAPL.csv\")\n"
   ]
  },
  {
   "cell_type": "code",
   "execution_count": 3,
   "id": "09794dfa",
   "metadata": {
    "execution": {
     "iopub.execute_input": "2023-06-22T20:05:16.616832Z",
     "iopub.status.busy": "2023-06-22T20:05:16.616428Z",
     "iopub.status.idle": "2023-06-22T20:05:16.649742Z",
     "shell.execute_reply": "2023-06-22T20:05:16.648713Z"
    },
    "papermill": {
     "duration": 0.043682,
     "end_time": "2023-06-22T20:05:16.653388",
     "exception": false,
     "start_time": "2023-06-22T20:05:16.609706",
     "status": "completed"
    },
    "tags": []
   },
   "outputs": [
    {
     "data": {
      "text/plain": [
       "<bound method NDFrame.first of              Date         Low        Open     Volume        High       Close  \\\n",
       "0      12-12-1980    0.128348    0.128348  469033600    0.128906    0.128348   \n",
       "1      15-12-1980    0.121652    0.122210  175884800    0.122210    0.121652   \n",
       "2      16-12-1980    0.112723    0.113281  105728000    0.113281    0.112723   \n",
       "3      17-12-1980    0.115513    0.115513   86441600    0.116071    0.115513   \n",
       "4      18-12-1980    0.118862    0.118862   73449600    0.119420    0.118862   \n",
       "...           ...         ...         ...        ...         ...         ...   \n",
       "10585  06-12-2022  141.919998  147.070007   64727200  147.300003  142.910004   \n",
       "10586  07-12-2022  140.000000  142.190002   69721100  143.369995  140.940002   \n",
       "10587  08-12-2022  141.100006  142.360001   62128300  143.520004  142.649994   \n",
       "10588  09-12-2022  140.899994  142.339996   76069500  145.570007  142.160004   \n",
       "10589  12-12-2022  141.070007  142.699997   21904917  143.000000  142.320007   \n",
       "\n",
       "       Adjusted Close  \n",
       "0            0.099874  \n",
       "1            0.094663  \n",
       "2            0.087715  \n",
       "3            0.089886  \n",
       "4            0.092492  \n",
       "...               ...  \n",
       "10585      142.910004  \n",
       "10586      140.940002  \n",
       "10587      142.649994  \n",
       "10588      142.160004  \n",
       "10589      142.320007  \n",
       "\n",
       "[10590 rows x 7 columns]>"
      ]
     },
     "execution_count": 3,
     "metadata": {},
     "output_type": "execute_result"
    }
   ],
   "source": [
    "appl.first"
   ]
  },
  {
   "cell_type": "code",
   "execution_count": 4,
   "id": "f36e0314",
   "metadata": {
    "execution": {
     "iopub.execute_input": "2023-06-22T20:05:16.666127Z",
     "iopub.status.busy": "2023-06-22T20:05:16.665750Z",
     "iopub.status.idle": "2023-06-22T20:05:16.670241Z",
     "shell.execute_reply": "2023-06-22T20:05:16.669092Z"
    },
    "papermill": {
     "duration": 0.013674,
     "end_time": "2023-06-22T20:05:16.672578",
     "exception": false,
     "start_time": "2023-06-22T20:05:16.658904",
     "status": "completed"
    },
    "tags": []
   },
   "outputs": [],
   "source": [
    "date_appl = appl['Date']"
   ]
  },
  {
   "cell_type": "code",
   "execution_count": 5,
   "id": "6ec023c6",
   "metadata": {
    "execution": {
     "iopub.execute_input": "2023-06-22T20:05:16.686036Z",
     "iopub.status.busy": "2023-06-22T20:05:16.685607Z",
     "iopub.status.idle": "2023-06-22T20:05:16.690334Z",
     "shell.execute_reply": "2023-06-22T20:05:16.689080Z"
    },
    "papermill": {
     "duration": 0.014375,
     "end_time": "2023-06-22T20:05:16.692692",
     "exception": false,
     "start_time": "2023-06-22T20:05:16.678317",
     "status": "completed"
    },
    "tags": []
   },
   "outputs": [],
   "source": [
    "#date_appl.to_csv(\"date_appl.csv\")"
   ]
  },
  {
   "cell_type": "code",
   "execution_count": 6,
   "id": "8df57c99",
   "metadata": {
    "execution": {
     "iopub.execute_input": "2023-06-22T20:05:16.706518Z",
     "iopub.status.busy": "2023-06-22T20:05:16.706127Z",
     "iopub.status.idle": "2023-06-22T20:05:17.802245Z",
     "shell.execute_reply": "2023-06-22T20:05:17.800683Z"
    },
    "papermill": {
     "duration": 1.106415,
     "end_time": "2023-06-22T20:05:17.805218",
     "exception": false,
     "start_time": "2023-06-22T20:05:16.698803",
     "status": "completed"
    },
    "tags": []
   },
   "outputs": [
    {
     "name": "stdout",
     "output_type": "stream",
     "text": [
      "\u001b[0m\u001b[01;34minput\u001b[0m/  \u001b[01;34mlib\u001b[0m/  \u001b[01;34msrc\u001b[0m/  \u001b[01;34mworking\u001b[0m/\r\n"
     ]
    }
   ],
   "source": [
    "ls .."
   ]
  },
  {
   "cell_type": "code",
   "execution_count": 7,
   "id": "643c4a9c",
   "metadata": {
    "execution": {
     "iopub.execute_input": "2023-06-22T20:05:17.819264Z",
     "iopub.status.busy": "2023-06-22T20:05:17.818432Z",
     "iopub.status.idle": "2023-06-22T20:05:18.915369Z",
     "shell.execute_reply": "2023-06-22T20:05:18.914232Z"
    },
    "papermill": {
     "duration": 1.106965,
     "end_time": "2023-06-22T20:05:18.917905",
     "exception": false,
     "start_time": "2023-06-22T20:05:17.810940",
     "status": "completed"
    },
    "tags": []
   },
   "outputs": [
    {
     "name": "stdout",
     "output_type": "stream",
     "text": [
      "\u001b[0m\u001b[01;34mstock_market_data\u001b[0m/\r\n"
     ]
    }
   ],
   "source": [
    "ls ../input/stock-market-data/"
   ]
  },
  {
   "cell_type": "code",
   "execution_count": 8,
   "id": "c4ac940c",
   "metadata": {
    "execution": {
     "iopub.execute_input": "2023-06-22T20:05:18.932846Z",
     "iopub.status.busy": "2023-06-22T20:05:18.932385Z",
     "iopub.status.idle": "2023-06-22T20:05:18.968139Z",
     "shell.execute_reply": "2023-06-22T20:05:18.967264Z"
    },
    "papermill": {
     "duration": 0.045367,
     "end_time": "2023-06-22T20:05:18.970602",
     "exception": false,
     "start_time": "2023-06-22T20:05:18.925235",
     "status": "completed"
    },
    "tags": []
   },
   "outputs": [],
   "source": [
    "tess = pd.read_csv(\"../input/stock-market-data/stock_market_data/nasdaq/csv/TESS.csv\")"
   ]
  },
  {
   "cell_type": "code",
   "execution_count": 9,
   "id": "8dd85e0f",
   "metadata": {
    "execution": {
     "iopub.execute_input": "2023-06-22T20:05:18.984189Z",
     "iopub.status.busy": "2023-06-22T20:05:18.983276Z",
     "iopub.status.idle": "2023-06-22T20:05:19.007678Z",
     "shell.execute_reply": "2023-06-22T20:05:19.006746Z"
    },
    "papermill": {
     "duration": 0.03385,
     "end_time": "2023-06-22T20:05:19.010232",
     "exception": false,
     "start_time": "2023-06-22T20:05:18.976382",
     "status": "completed"
    },
    "tags": []
   },
   "outputs": [
    {
     "data": {
      "text/html": [
       "<div>\n",
       "<style scoped>\n",
       "    .dataframe tbody tr th:only-of-type {\n",
       "        vertical-align: middle;\n",
       "    }\n",
       "\n",
       "    .dataframe tbody tr th {\n",
       "        vertical-align: top;\n",
       "    }\n",
       "\n",
       "    .dataframe thead th {\n",
       "        text-align: right;\n",
       "    }\n",
       "</style>\n",
       "<table border=\"1\" class=\"dataframe\">\n",
       "  <thead>\n",
       "    <tr style=\"text-align: right;\">\n",
       "      <th></th>\n",
       "      <th>Date</th>\n",
       "      <th>Low</th>\n",
       "      <th>Open</th>\n",
       "      <th>Volume</th>\n",
       "      <th>High</th>\n",
       "      <th>Close</th>\n",
       "      <th>Adjusted Close</th>\n",
       "    </tr>\n",
       "  </thead>\n",
       "  <tbody>\n",
       "    <tr>\n",
       "      <th>0</th>\n",
       "      <td>28-09-1994</td>\n",
       "      <td>6.888889</td>\n",
       "      <td>7.111111</td>\n",
       "      <td>4127625</td>\n",
       "      <td>7.444444</td>\n",
       "      <td>7.222222</td>\n",
       "      <td>4.549767</td>\n",
       "    </tr>\n",
       "    <tr>\n",
       "      <th>1</th>\n",
       "      <td>29-09-1994</td>\n",
       "      <td>7.111111</td>\n",
       "      <td>7.111111</td>\n",
       "      <td>644625</td>\n",
       "      <td>7.222222</td>\n",
       "      <td>7.111111</td>\n",
       "      <td>4.479772</td>\n",
       "    </tr>\n",
       "  </tbody>\n",
       "</table>\n",
       "</div>"
      ],
      "text/plain": [
       "         Date       Low      Open   Volume      High     Close  Adjusted Close\n",
       "0  28-09-1994  6.888889  7.111111  4127625  7.444444  7.222222        4.549767\n",
       "1  29-09-1994  7.111111  7.111111   644625  7.222222  7.111111        4.479772"
      ]
     },
     "execution_count": 9,
     "metadata": {},
     "output_type": "execute_result"
    }
   ],
   "source": [
    "tess.head(2)"
   ]
  },
  {
   "cell_type": "code",
   "execution_count": 10,
   "id": "cea6c963",
   "metadata": {
    "execution": {
     "iopub.execute_input": "2023-06-22T20:05:19.024444Z",
     "iopub.status.busy": "2023-06-22T20:05:19.023529Z",
     "iopub.status.idle": "2023-06-22T20:05:19.035123Z",
     "shell.execute_reply": "2023-06-22T20:05:19.034150Z"
    },
    "papermill": {
     "duration": 0.021186,
     "end_time": "2023-06-22T20:05:19.037504",
     "exception": false,
     "start_time": "2023-06-22T20:05:19.016318",
     "status": "completed"
    },
    "tags": []
   },
   "outputs": [],
   "source": [
    "\n",
    "tess_date = tess[[\"Date\",\"Low\"]]\n",
    "tess_date = tess_date.rename(columns={\"Date\":\"Date1\"})"
   ]
  },
  {
   "cell_type": "code",
   "execution_count": 11,
   "id": "ab5f8614",
   "metadata": {
    "execution": {
     "iopub.execute_input": "2023-06-22T20:05:19.051362Z",
     "iopub.status.busy": "2023-06-22T20:05:19.050985Z",
     "iopub.status.idle": "2023-06-22T20:05:19.065137Z",
     "shell.execute_reply": "2023-06-22T20:05:19.064208Z"
    },
    "papermill": {
     "duration": 0.023963,
     "end_time": "2023-06-22T20:05:19.067509",
     "exception": false,
     "start_time": "2023-06-22T20:05:19.043546",
     "status": "completed"
    },
    "tags": []
   },
   "outputs": [],
   "source": [
    "df = pd.concat([tess_date,date_appl])"
   ]
  },
  {
   "cell_type": "code",
   "execution_count": 12,
   "id": "e222f4c5",
   "metadata": {
    "execution": {
     "iopub.execute_input": "2023-06-22T20:05:19.081991Z",
     "iopub.status.busy": "2023-06-22T20:05:19.081106Z",
     "iopub.status.idle": "2023-06-22T20:05:19.095620Z",
     "shell.execute_reply": "2023-06-22T20:05:19.094545Z"
    },
    "papermill": {
     "duration": 0.024801,
     "end_time": "2023-06-22T20:05:19.098404",
     "exception": false,
     "start_time": "2023-06-22T20:05:19.073603",
     "status": "completed"
    },
    "tags": []
   },
   "outputs": [
    {
     "data": {
      "text/html": [
       "<div>\n",
       "<style scoped>\n",
       "    .dataframe tbody tr th:only-of-type {\n",
       "        vertical-align: middle;\n",
       "    }\n",
       "\n",
       "    .dataframe tbody tr th {\n",
       "        vertical-align: top;\n",
       "    }\n",
       "\n",
       "    .dataframe thead th {\n",
       "        text-align: right;\n",
       "    }\n",
       "</style>\n",
       "<table border=\"1\" class=\"dataframe\">\n",
       "  <thead>\n",
       "    <tr style=\"text-align: right;\">\n",
       "      <th></th>\n",
       "      <th>Date1</th>\n",
       "      <th>Low</th>\n",
       "      <th>0</th>\n",
       "    </tr>\n",
       "  </thead>\n",
       "  <tbody>\n",
       "    <tr>\n",
       "      <th>0</th>\n",
       "      <td>28-09-1994</td>\n",
       "      <td>6.888889</td>\n",
       "      <td>NaN</td>\n",
       "    </tr>\n",
       "    <tr>\n",
       "      <th>1</th>\n",
       "      <td>29-09-1994</td>\n",
       "      <td>7.111111</td>\n",
       "      <td>NaN</td>\n",
       "    </tr>\n",
       "    <tr>\n",
       "      <th>2</th>\n",
       "      <td>30-09-1994</td>\n",
       "      <td>7.111111</td>\n",
       "      <td>NaN</td>\n",
       "    </tr>\n",
       "    <tr>\n",
       "      <th>3</th>\n",
       "      <td>03-10-1994</td>\n",
       "      <td>7.333333</td>\n",
       "      <td>NaN</td>\n",
       "    </tr>\n",
       "    <tr>\n",
       "      <th>4</th>\n",
       "      <td>04-10-1994</td>\n",
       "      <td>7.222222</td>\n",
       "      <td>NaN</td>\n",
       "    </tr>\n",
       "    <tr>\n",
       "      <th>...</th>\n",
       "      <td>...</td>\n",
       "      <td>...</td>\n",
       "      <td>...</td>\n",
       "    </tr>\n",
       "    <tr>\n",
       "      <th>10585</th>\n",
       "      <td>NaN</td>\n",
       "      <td>NaN</td>\n",
       "      <td>06-12-2022</td>\n",
       "    </tr>\n",
       "    <tr>\n",
       "      <th>10586</th>\n",
       "      <td>NaN</td>\n",
       "      <td>NaN</td>\n",
       "      <td>07-12-2022</td>\n",
       "    </tr>\n",
       "    <tr>\n",
       "      <th>10587</th>\n",
       "      <td>NaN</td>\n",
       "      <td>NaN</td>\n",
       "      <td>08-12-2022</td>\n",
       "    </tr>\n",
       "    <tr>\n",
       "      <th>10588</th>\n",
       "      <td>NaN</td>\n",
       "      <td>NaN</td>\n",
       "      <td>09-12-2022</td>\n",
       "    </tr>\n",
       "    <tr>\n",
       "      <th>10589</th>\n",
       "      <td>NaN</td>\n",
       "      <td>NaN</td>\n",
       "      <td>12-12-2022</td>\n",
       "    </tr>\n",
       "  </tbody>\n",
       "</table>\n",
       "<p>17693 rows × 3 columns</p>\n",
       "</div>"
      ],
      "text/plain": [
       "            Date1       Low           0\n",
       "0      28-09-1994  6.888889         NaN\n",
       "1      29-09-1994  7.111111         NaN\n",
       "2      30-09-1994  7.111111         NaN\n",
       "3      03-10-1994  7.333333         NaN\n",
       "4      04-10-1994  7.222222         NaN\n",
       "...           ...       ...         ...\n",
       "10585         NaN       NaN  06-12-2022\n",
       "10586         NaN       NaN  07-12-2022\n",
       "10587         NaN       NaN  08-12-2022\n",
       "10588         NaN       NaN  09-12-2022\n",
       "10589         NaN       NaN  12-12-2022\n",
       "\n",
       "[17693 rows x 3 columns]"
      ]
     },
     "execution_count": 12,
     "metadata": {},
     "output_type": "execute_result"
    }
   ],
   "source": [
    "df"
   ]
  },
  {
   "cell_type": "code",
   "execution_count": 13,
   "id": "459c4163",
   "metadata": {
    "execution": {
     "iopub.execute_input": "2023-06-22T20:05:19.112873Z",
     "iopub.status.busy": "2023-06-22T20:05:19.112136Z",
     "iopub.status.idle": "2023-06-22T20:05:19.120727Z",
     "shell.execute_reply": "2023-06-22T20:05:19.119917Z"
    },
    "papermill": {
     "duration": 0.018035,
     "end_time": "2023-06-22T20:05:19.122761",
     "exception": false,
     "start_time": "2023-06-22T20:05:19.104726",
     "status": "completed"
    },
    "tags": []
   },
   "outputs": [
    {
     "data": {
      "text/plain": [
       "0               NaN\n",
       "1               NaN\n",
       "2               NaN\n",
       "3               NaN\n",
       "4               NaN\n",
       "            ...    \n",
       "10585    06-12-2022\n",
       "10586    07-12-2022\n",
       "10587    08-12-2022\n",
       "10588    09-12-2022\n",
       "10589    12-12-2022\n",
       "Name: 0, Length: 17693, dtype: object"
      ]
     },
     "execution_count": 13,
     "metadata": {},
     "output_type": "execute_result"
    }
   ],
   "source": [
    "df[0]#.equals(df['Date1']) "
   ]
  },
  {
   "cell_type": "code",
   "execution_count": 14,
   "id": "ddaf4ae6",
   "metadata": {
    "execution": {
     "iopub.execute_input": "2023-06-22T20:05:19.137774Z",
     "iopub.status.busy": "2023-06-22T20:05:19.137080Z",
     "iopub.status.idle": "2023-06-22T20:05:19.151152Z",
     "shell.execute_reply": "2023-06-22T20:05:19.150159Z"
    },
    "papermill": {
     "duration": 0.024395,
     "end_time": "2023-06-22T20:05:19.153686",
     "exception": false,
     "start_time": "2023-06-22T20:05:19.129291",
     "status": "completed"
    },
    "tags": []
   },
   "outputs": [
    {
     "data": {
      "text/html": [
       "<div>\n",
       "<style scoped>\n",
       "    .dataframe tbody tr th:only-of-type {\n",
       "        vertical-align: middle;\n",
       "    }\n",
       "\n",
       "    .dataframe tbody tr th {\n",
       "        vertical-align: top;\n",
       "    }\n",
       "\n",
       "    .dataframe thead th {\n",
       "        text-align: right;\n",
       "    }\n",
       "</style>\n",
       "<table border=\"1\" class=\"dataframe\">\n",
       "  <thead>\n",
       "    <tr style=\"text-align: right;\">\n",
       "      <th></th>\n",
       "      <th>Date1</th>\n",
       "      <th>Low</th>\n",
       "      <th>0</th>\n",
       "    </tr>\n",
       "  </thead>\n",
       "  <tbody>\n",
       "    <tr>\n",
       "      <th>0</th>\n",
       "      <td>28-09-1994</td>\n",
       "      <td>6.888889</td>\n",
       "      <td>NaN</td>\n",
       "    </tr>\n",
       "    <tr>\n",
       "      <th>1</th>\n",
       "      <td>29-09-1994</td>\n",
       "      <td>7.111111</td>\n",
       "      <td>NaN</td>\n",
       "    </tr>\n",
       "    <tr>\n",
       "      <th>2</th>\n",
       "      <td>30-09-1994</td>\n",
       "      <td>7.111111</td>\n",
       "      <td>NaN</td>\n",
       "    </tr>\n",
       "    <tr>\n",
       "      <th>3</th>\n",
       "      <td>03-10-1994</td>\n",
       "      <td>7.333333</td>\n",
       "      <td>NaN</td>\n",
       "    </tr>\n",
       "    <tr>\n",
       "      <th>4</th>\n",
       "      <td>04-10-1994</td>\n",
       "      <td>7.222222</td>\n",
       "      <td>NaN</td>\n",
       "    </tr>\n",
       "    <tr>\n",
       "      <th>...</th>\n",
       "      <td>...</td>\n",
       "      <td>...</td>\n",
       "      <td>...</td>\n",
       "    </tr>\n",
       "    <tr>\n",
       "      <th>10585</th>\n",
       "      <td>NaN</td>\n",
       "      <td>NaN</td>\n",
       "      <td>06-12-2022</td>\n",
       "    </tr>\n",
       "    <tr>\n",
       "      <th>10586</th>\n",
       "      <td>NaN</td>\n",
       "      <td>NaN</td>\n",
       "      <td>07-12-2022</td>\n",
       "    </tr>\n",
       "    <tr>\n",
       "      <th>10587</th>\n",
       "      <td>NaN</td>\n",
       "      <td>NaN</td>\n",
       "      <td>08-12-2022</td>\n",
       "    </tr>\n",
       "    <tr>\n",
       "      <th>10588</th>\n",
       "      <td>NaN</td>\n",
       "      <td>NaN</td>\n",
       "      <td>09-12-2022</td>\n",
       "    </tr>\n",
       "    <tr>\n",
       "      <th>10589</th>\n",
       "      <td>NaN</td>\n",
       "      <td>NaN</td>\n",
       "      <td>12-12-2022</td>\n",
       "    </tr>\n",
       "  </tbody>\n",
       "</table>\n",
       "<p>17693 rows × 3 columns</p>\n",
       "</div>"
      ],
      "text/plain": [
       "            Date1       Low           0\n",
       "0      28-09-1994  6.888889         NaN\n",
       "1      29-09-1994  7.111111         NaN\n",
       "2      30-09-1994  7.111111         NaN\n",
       "3      03-10-1994  7.333333         NaN\n",
       "4      04-10-1994  7.222222         NaN\n",
       "...           ...       ...         ...\n",
       "10585         NaN       NaN  06-12-2022\n",
       "10586         NaN       NaN  07-12-2022\n",
       "10587         NaN       NaN  08-12-2022\n",
       "10588         NaN       NaN  09-12-2022\n",
       "10589         NaN       NaN  12-12-2022\n",
       "\n",
       "[17693 rows x 3 columns]"
      ]
     },
     "execution_count": 14,
     "metadata": {},
     "output_type": "execute_result"
    }
   ],
   "source": [
    "df"
   ]
  },
  {
   "cell_type": "code",
   "execution_count": null,
   "id": "bbb894b8",
   "metadata": {
    "papermill": {
     "duration": 0.006393,
     "end_time": "2023-06-22T20:05:19.166991",
     "exception": false,
     "start_time": "2023-06-22T20:05:19.160598",
     "status": "completed"
    },
    "tags": []
   },
   "outputs": [],
   "source": []
  }
 ],
 "metadata": {
  "kernelspec": {
   "display_name": "Python 3",
   "language": "python",
   "name": "python3"
  },
  "language_info": {
   "codemirror_mode": {
    "name": "ipython",
    "version": 3
   },
   "file_extension": ".py",
   "mimetype": "text/x-python",
   "name": "python",
   "nbconvert_exporter": "python",
   "pygments_lexer": "ipython3",
   "version": "3.10.10"
  },
  "papermill": {
   "default_parameters": {},
   "duration": 17.329711,
   "end_time": "2023-06-22T20:05:20.094883",
   "environment_variables": {},
   "exception": null,
   "input_path": "__notebook__.ipynb",
   "output_path": "__notebook__.ipynb",
   "parameters": {},
   "start_time": "2023-06-22T20:05:02.765172",
   "version": "2.4.0"
  }
 },
 "nbformat": 4,
 "nbformat_minor": 5
}
