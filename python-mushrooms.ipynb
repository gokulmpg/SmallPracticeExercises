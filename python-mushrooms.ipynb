{
 "cells": [
  {
   "cell_type": "code",
   "execution_count": 1,
   "id": "f98815c7",
   "metadata": {
    "execution": {
     "iopub.execute_input": "2023-06-26T08:18:07.260345Z",
     "iopub.status.busy": "2023-06-26T08:18:07.259743Z",
     "iopub.status.idle": "2023-06-26T08:18:07.313474Z",
     "shell.execute_reply": "2023-06-26T08:18:07.312395Z"
    },
    "papermill": {
     "duration": 0.059994,
     "end_time": "2023-06-26T08:18:07.316159",
     "exception": false,
     "start_time": "2023-06-26T08:18:07.256165",
     "status": "completed"
    },
    "tags": []
   },
   "outputs": [],
   "source": [
    "import pandas as pd\n",
    "mushrooms = pd.read_csv(\"../input/mushrooms/mushrooms.csv\")"
   ]
  }
 ],
 "metadata": {
  "kernelspec": {
   "display_name": "Python 3",
   "language": "python",
   "name": "python3"
  },
  "language_info": {
   "codemirror_mode": {
    "name": "ipython",
    "version": 3
   },
   "file_extension": ".py",
   "mimetype": "text/x-python",
   "name": "python",
   "nbconvert_exporter": "python",
   "pygments_lexer": "ipython3",
   "version": "3.10.10"
  },
  "papermill": {
   "default_parameters": {},
   "duration": 12.52314,
   "end_time": "2023-06-26T08:18:08.140117",
   "environment_variables": {},
   "exception": null,
   "input_path": "__notebook__.ipynb",
   "output_path": "__notebook__.ipynb",
   "parameters": {},
   "start_time": "2023-06-26T08:17:55.616977",
   "version": "2.4.0"
  }
 },
 "nbformat": 4,
 "nbformat_minor": 5
}
