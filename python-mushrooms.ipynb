{
 "cells": [
  {
   "cell_type": "code",
   "execution_count": 1,
   "id": "1cac6d0f",
   "metadata": {
    "execution": {
     "iopub.execute_input": "2023-06-26T11:40:10.702793Z",
     "iopub.status.busy": "2023-06-26T11:40:10.702100Z",
     "iopub.status.idle": "2023-06-26T11:40:10.757596Z",
     "shell.execute_reply": "2023-06-26T11:40:10.756358Z"
    },
    "papermill": {
     "duration": 0.068473,
     "end_time": "2023-06-26T11:40:10.760561",
     "exception": false,
     "start_time": "2023-06-26T11:40:10.692088",
     "status": "completed"
    },
    "tags": []
   },
   "outputs": [],
   "source": [
    "import pandas as pd\n",
    "mushrooms = pd.read_csv(\"../input/mushrooms/mushrooms.csv\")"
   ]
  },
  {
   "cell_type": "code",
   "execution_count": 2,
   "id": "be2dfb87",
   "metadata": {
    "execution": {
     "iopub.execute_input": "2023-06-26T11:40:10.778144Z",
     "iopub.status.busy": "2023-06-26T11:40:10.777741Z",
     "iopub.status.idle": "2023-06-26T11:40:10.831347Z",
     "shell.execute_reply": "2023-06-26T11:40:10.830161Z"
    },
    "papermill": {
     "duration": 0.065198,
     "end_time": "2023-06-26T11:40:10.833844",
     "exception": false,
     "start_time": "2023-06-26T11:40:10.768646",
     "status": "completed"
    },
    "tags": []
   },
   "outputs": [
    {
     "data": {
      "text/html": [
       "<div>\n",
       "<style scoped>\n",
       "    .dataframe tbody tr th:only-of-type {\n",
       "        vertical-align: middle;\n",
       "    }\n",
       "\n",
       "    .dataframe tbody tr th {\n",
       "        vertical-align: top;\n",
       "    }\n",
       "\n",
       "    .dataframe thead th {\n",
       "        text-align: right;\n",
       "    }\n",
       "</style>\n",
       "<table border=\"1\" class=\"dataframe\">\n",
       "  <thead>\n",
       "    <tr style=\"text-align: right;\">\n",
       "      <th></th>\n",
       "      <th>class</th>\n",
       "      <th>cap-shape</th>\n",
       "      <th>cap-surface</th>\n",
       "      <th>cap-color</th>\n",
       "      <th>bruises</th>\n",
       "      <th>odor</th>\n",
       "      <th>gill-attachment</th>\n",
       "      <th>gill-spacing</th>\n",
       "      <th>gill-size</th>\n",
       "      <th>gill-color</th>\n",
       "      <th>...</th>\n",
       "      <th>stalk-surface-below-ring</th>\n",
       "      <th>stalk-color-above-ring</th>\n",
       "      <th>stalk-color-below-ring</th>\n",
       "      <th>veil-type</th>\n",
       "      <th>veil-color</th>\n",
       "      <th>ring-number</th>\n",
       "      <th>ring-type</th>\n",
       "      <th>spore-print-color</th>\n",
       "      <th>population</th>\n",
       "      <th>habitat</th>\n",
       "    </tr>\n",
       "  </thead>\n",
       "  <tbody>\n",
       "    <tr>\n",
       "      <th>0</th>\n",
       "      <td>p</td>\n",
       "      <td>x</td>\n",
       "      <td>s</td>\n",
       "      <td>n</td>\n",
       "      <td>t</td>\n",
       "      <td>p</td>\n",
       "      <td>f</td>\n",
       "      <td>c</td>\n",
       "      <td>n</td>\n",
       "      <td>k</td>\n",
       "      <td>...</td>\n",
       "      <td>s</td>\n",
       "      <td>w</td>\n",
       "      <td>w</td>\n",
       "      <td>p</td>\n",
       "      <td>w</td>\n",
       "      <td>o</td>\n",
       "      <td>p</td>\n",
       "      <td>k</td>\n",
       "      <td>s</td>\n",
       "      <td>u</td>\n",
       "    </tr>\n",
       "    <tr>\n",
       "      <th>1</th>\n",
       "      <td>e</td>\n",
       "      <td>x</td>\n",
       "      <td>s</td>\n",
       "      <td>y</td>\n",
       "      <td>t</td>\n",
       "      <td>a</td>\n",
       "      <td>f</td>\n",
       "      <td>c</td>\n",
       "      <td>b</td>\n",
       "      <td>k</td>\n",
       "      <td>...</td>\n",
       "      <td>s</td>\n",
       "      <td>w</td>\n",
       "      <td>w</td>\n",
       "      <td>p</td>\n",
       "      <td>w</td>\n",
       "      <td>o</td>\n",
       "      <td>p</td>\n",
       "      <td>n</td>\n",
       "      <td>n</td>\n",
       "      <td>g</td>\n",
       "    </tr>\n",
       "    <tr>\n",
       "      <th>2</th>\n",
       "      <td>e</td>\n",
       "      <td>b</td>\n",
       "      <td>s</td>\n",
       "      <td>w</td>\n",
       "      <td>t</td>\n",
       "      <td>l</td>\n",
       "      <td>f</td>\n",
       "      <td>c</td>\n",
       "      <td>b</td>\n",
       "      <td>n</td>\n",
       "      <td>...</td>\n",
       "      <td>s</td>\n",
       "      <td>w</td>\n",
       "      <td>w</td>\n",
       "      <td>p</td>\n",
       "      <td>w</td>\n",
       "      <td>o</td>\n",
       "      <td>p</td>\n",
       "      <td>n</td>\n",
       "      <td>n</td>\n",
       "      <td>m</td>\n",
       "    </tr>\n",
       "    <tr>\n",
       "      <th>3</th>\n",
       "      <td>p</td>\n",
       "      <td>x</td>\n",
       "      <td>y</td>\n",
       "      <td>w</td>\n",
       "      <td>t</td>\n",
       "      <td>p</td>\n",
       "      <td>f</td>\n",
       "      <td>c</td>\n",
       "      <td>n</td>\n",
       "      <td>n</td>\n",
       "      <td>...</td>\n",
       "      <td>s</td>\n",
       "      <td>w</td>\n",
       "      <td>w</td>\n",
       "      <td>p</td>\n",
       "      <td>w</td>\n",
       "      <td>o</td>\n",
       "      <td>p</td>\n",
       "      <td>k</td>\n",
       "      <td>s</td>\n",
       "      <td>u</td>\n",
       "    </tr>\n",
       "    <tr>\n",
       "      <th>4</th>\n",
       "      <td>e</td>\n",
       "      <td>x</td>\n",
       "      <td>s</td>\n",
       "      <td>g</td>\n",
       "      <td>f</td>\n",
       "      <td>n</td>\n",
       "      <td>f</td>\n",
       "      <td>w</td>\n",
       "      <td>b</td>\n",
       "      <td>k</td>\n",
       "      <td>...</td>\n",
       "      <td>s</td>\n",
       "      <td>w</td>\n",
       "      <td>w</td>\n",
       "      <td>p</td>\n",
       "      <td>w</td>\n",
       "      <td>o</td>\n",
       "      <td>e</td>\n",
       "      <td>n</td>\n",
       "      <td>a</td>\n",
       "      <td>g</td>\n",
       "    </tr>\n",
       "    <tr>\n",
       "      <th>...</th>\n",
       "      <td>...</td>\n",
       "      <td>...</td>\n",
       "      <td>...</td>\n",
       "      <td>...</td>\n",
       "      <td>...</td>\n",
       "      <td>...</td>\n",
       "      <td>...</td>\n",
       "      <td>...</td>\n",
       "      <td>...</td>\n",
       "      <td>...</td>\n",
       "      <td>...</td>\n",
       "      <td>...</td>\n",
       "      <td>...</td>\n",
       "      <td>...</td>\n",
       "      <td>...</td>\n",
       "      <td>...</td>\n",
       "      <td>...</td>\n",
       "      <td>...</td>\n",
       "      <td>...</td>\n",
       "      <td>...</td>\n",
       "      <td>...</td>\n",
       "    </tr>\n",
       "    <tr>\n",
       "      <th>8119</th>\n",
       "      <td>e</td>\n",
       "      <td>k</td>\n",
       "      <td>s</td>\n",
       "      <td>n</td>\n",
       "      <td>f</td>\n",
       "      <td>n</td>\n",
       "      <td>a</td>\n",
       "      <td>c</td>\n",
       "      <td>b</td>\n",
       "      <td>y</td>\n",
       "      <td>...</td>\n",
       "      <td>s</td>\n",
       "      <td>o</td>\n",
       "      <td>o</td>\n",
       "      <td>p</td>\n",
       "      <td>o</td>\n",
       "      <td>o</td>\n",
       "      <td>p</td>\n",
       "      <td>b</td>\n",
       "      <td>c</td>\n",
       "      <td>l</td>\n",
       "    </tr>\n",
       "    <tr>\n",
       "      <th>8120</th>\n",
       "      <td>e</td>\n",
       "      <td>x</td>\n",
       "      <td>s</td>\n",
       "      <td>n</td>\n",
       "      <td>f</td>\n",
       "      <td>n</td>\n",
       "      <td>a</td>\n",
       "      <td>c</td>\n",
       "      <td>b</td>\n",
       "      <td>y</td>\n",
       "      <td>...</td>\n",
       "      <td>s</td>\n",
       "      <td>o</td>\n",
       "      <td>o</td>\n",
       "      <td>p</td>\n",
       "      <td>n</td>\n",
       "      <td>o</td>\n",
       "      <td>p</td>\n",
       "      <td>b</td>\n",
       "      <td>v</td>\n",
       "      <td>l</td>\n",
       "    </tr>\n",
       "    <tr>\n",
       "      <th>8121</th>\n",
       "      <td>e</td>\n",
       "      <td>f</td>\n",
       "      <td>s</td>\n",
       "      <td>n</td>\n",
       "      <td>f</td>\n",
       "      <td>n</td>\n",
       "      <td>a</td>\n",
       "      <td>c</td>\n",
       "      <td>b</td>\n",
       "      <td>n</td>\n",
       "      <td>...</td>\n",
       "      <td>s</td>\n",
       "      <td>o</td>\n",
       "      <td>o</td>\n",
       "      <td>p</td>\n",
       "      <td>o</td>\n",
       "      <td>o</td>\n",
       "      <td>p</td>\n",
       "      <td>b</td>\n",
       "      <td>c</td>\n",
       "      <td>l</td>\n",
       "    </tr>\n",
       "    <tr>\n",
       "      <th>8122</th>\n",
       "      <td>p</td>\n",
       "      <td>k</td>\n",
       "      <td>y</td>\n",
       "      <td>n</td>\n",
       "      <td>f</td>\n",
       "      <td>y</td>\n",
       "      <td>f</td>\n",
       "      <td>c</td>\n",
       "      <td>n</td>\n",
       "      <td>b</td>\n",
       "      <td>...</td>\n",
       "      <td>k</td>\n",
       "      <td>w</td>\n",
       "      <td>w</td>\n",
       "      <td>p</td>\n",
       "      <td>w</td>\n",
       "      <td>o</td>\n",
       "      <td>e</td>\n",
       "      <td>w</td>\n",
       "      <td>v</td>\n",
       "      <td>l</td>\n",
       "    </tr>\n",
       "    <tr>\n",
       "      <th>8123</th>\n",
       "      <td>e</td>\n",
       "      <td>x</td>\n",
       "      <td>s</td>\n",
       "      <td>n</td>\n",
       "      <td>f</td>\n",
       "      <td>n</td>\n",
       "      <td>a</td>\n",
       "      <td>c</td>\n",
       "      <td>b</td>\n",
       "      <td>y</td>\n",
       "      <td>...</td>\n",
       "      <td>s</td>\n",
       "      <td>o</td>\n",
       "      <td>o</td>\n",
       "      <td>p</td>\n",
       "      <td>o</td>\n",
       "      <td>o</td>\n",
       "      <td>p</td>\n",
       "      <td>o</td>\n",
       "      <td>c</td>\n",
       "      <td>l</td>\n",
       "    </tr>\n",
       "  </tbody>\n",
       "</table>\n",
       "<p>8124 rows × 23 columns</p>\n",
       "</div>"
      ],
      "text/plain": [
       "     class cap-shape cap-surface cap-color bruises odor gill-attachment  \\\n",
       "0        p         x           s         n       t    p               f   \n",
       "1        e         x           s         y       t    a               f   \n",
       "2        e         b           s         w       t    l               f   \n",
       "3        p         x           y         w       t    p               f   \n",
       "4        e         x           s         g       f    n               f   \n",
       "...    ...       ...         ...       ...     ...  ...             ...   \n",
       "8119     e         k           s         n       f    n               a   \n",
       "8120     e         x           s         n       f    n               a   \n",
       "8121     e         f           s         n       f    n               a   \n",
       "8122     p         k           y         n       f    y               f   \n",
       "8123     e         x           s         n       f    n               a   \n",
       "\n",
       "     gill-spacing gill-size gill-color  ... stalk-surface-below-ring  \\\n",
       "0               c         n          k  ...                        s   \n",
       "1               c         b          k  ...                        s   \n",
       "2               c         b          n  ...                        s   \n",
       "3               c         n          n  ...                        s   \n",
       "4               w         b          k  ...                        s   \n",
       "...           ...       ...        ...  ...                      ...   \n",
       "8119            c         b          y  ...                        s   \n",
       "8120            c         b          y  ...                        s   \n",
       "8121            c         b          n  ...                        s   \n",
       "8122            c         n          b  ...                        k   \n",
       "8123            c         b          y  ...                        s   \n",
       "\n",
       "     stalk-color-above-ring stalk-color-below-ring veil-type veil-color  \\\n",
       "0                         w                      w         p          w   \n",
       "1                         w                      w         p          w   \n",
       "2                         w                      w         p          w   \n",
       "3                         w                      w         p          w   \n",
       "4                         w                      w         p          w   \n",
       "...                     ...                    ...       ...        ...   \n",
       "8119                      o                      o         p          o   \n",
       "8120                      o                      o         p          n   \n",
       "8121                      o                      o         p          o   \n",
       "8122                      w                      w         p          w   \n",
       "8123                      o                      o         p          o   \n",
       "\n",
       "     ring-number ring-type spore-print-color population habitat  \n",
       "0              o         p                 k          s       u  \n",
       "1              o         p                 n          n       g  \n",
       "2              o         p                 n          n       m  \n",
       "3              o         p                 k          s       u  \n",
       "4              o         e                 n          a       g  \n",
       "...          ...       ...               ...        ...     ...  \n",
       "8119           o         p                 b          c       l  \n",
       "8120           o         p                 b          v       l  \n",
       "8121           o         p                 b          c       l  \n",
       "8122           o         e                 w          v       l  \n",
       "8123           o         p                 o          c       l  \n",
       "\n",
       "[8124 rows x 23 columns]"
      ]
     },
     "execution_count": 2,
     "metadata": {},
     "output_type": "execute_result"
    }
   ],
   "source": [
    "mushrooms"
   ]
  },
  {
   "cell_type": "code",
   "execution_count": 3,
   "id": "f6be1d64",
   "metadata": {
    "execution": {
     "iopub.execute_input": "2023-06-26T11:40:10.852667Z",
     "iopub.status.busy": "2023-06-26T11:40:10.851499Z",
     "iopub.status.idle": "2023-06-26T11:40:10.870646Z",
     "shell.execute_reply": "2023-06-26T11:40:10.869508Z"
    },
    "papermill": {
     "duration": 0.03141,
     "end_time": "2023-06-26T11:40:10.873475",
     "exception": false,
     "start_time": "2023-06-26T11:40:10.842065",
     "status": "completed"
    },
    "tags": []
   },
   "outputs": [
    {
     "data": {
      "text/plain": [
       "<bound method DataFrame.info of      class cap-shape cap-surface cap-color bruises odor gill-attachment  \\\n",
       "0        p         x           s         n       t    p               f   \n",
       "1        e         x           s         y       t    a               f   \n",
       "2        e         b           s         w       t    l               f   \n",
       "3        p         x           y         w       t    p               f   \n",
       "4        e         x           s         g       f    n               f   \n",
       "...    ...       ...         ...       ...     ...  ...             ...   \n",
       "8119     e         k           s         n       f    n               a   \n",
       "8120     e         x           s         n       f    n               a   \n",
       "8121     e         f           s         n       f    n               a   \n",
       "8122     p         k           y         n       f    y               f   \n",
       "8123     e         x           s         n       f    n               a   \n",
       "\n",
       "     gill-spacing gill-size gill-color  ... stalk-surface-below-ring  \\\n",
       "0               c         n          k  ...                        s   \n",
       "1               c         b          k  ...                        s   \n",
       "2               c         b          n  ...                        s   \n",
       "3               c         n          n  ...                        s   \n",
       "4               w         b          k  ...                        s   \n",
       "...           ...       ...        ...  ...                      ...   \n",
       "8119            c         b          y  ...                        s   \n",
       "8120            c         b          y  ...                        s   \n",
       "8121            c         b          n  ...                        s   \n",
       "8122            c         n          b  ...                        k   \n",
       "8123            c         b          y  ...                        s   \n",
       "\n",
       "     stalk-color-above-ring stalk-color-below-ring veil-type veil-color  \\\n",
       "0                         w                      w         p          w   \n",
       "1                         w                      w         p          w   \n",
       "2                         w                      w         p          w   \n",
       "3                         w                      w         p          w   \n",
       "4                         w                      w         p          w   \n",
       "...                     ...                    ...       ...        ...   \n",
       "8119                      o                      o         p          o   \n",
       "8120                      o                      o         p          n   \n",
       "8121                      o                      o         p          o   \n",
       "8122                      w                      w         p          w   \n",
       "8123                      o                      o         p          o   \n",
       "\n",
       "     ring-number ring-type spore-print-color population habitat  \n",
       "0              o         p                 k          s       u  \n",
       "1              o         p                 n          n       g  \n",
       "2              o         p                 n          n       m  \n",
       "3              o         p                 k          s       u  \n",
       "4              o         e                 n          a       g  \n",
       "...          ...       ...               ...        ...     ...  \n",
       "8119           o         p                 b          c       l  \n",
       "8120           o         p                 b          v       l  \n",
       "8121           o         p                 b          c       l  \n",
       "8122           o         e                 w          v       l  \n",
       "8123           o         p                 o          c       l  \n",
       "\n",
       "[8124 rows x 23 columns]>"
      ]
     },
     "execution_count": 3,
     "metadata": {},
     "output_type": "execute_result"
    }
   ],
   "source": [
    "mushrooms.info"
   ]
  },
  {
   "cell_type": "code",
   "execution_count": 4,
   "id": "c5a1b848",
   "metadata": {
    "execution": {
     "iopub.execute_input": "2023-06-26T11:40:10.892855Z",
     "iopub.status.busy": "2023-06-26T11:40:10.892399Z",
     "iopub.status.idle": "2023-06-26T11:40:11.002658Z",
     "shell.execute_reply": "2023-06-26T11:40:11.001452Z"
    },
    "papermill": {
     "duration": 0.123298,
     "end_time": "2023-06-26T11:40:11.005454",
     "exception": false,
     "start_time": "2023-06-26T11:40:10.882156",
     "status": "completed"
    },
    "tags": []
   },
   "outputs": [
    {
     "data": {
      "text/html": [
       "<div>\n",
       "<style scoped>\n",
       "    .dataframe tbody tr th:only-of-type {\n",
       "        vertical-align: middle;\n",
       "    }\n",
       "\n",
       "    .dataframe tbody tr th {\n",
       "        vertical-align: top;\n",
       "    }\n",
       "\n",
       "    .dataframe thead th {\n",
       "        text-align: right;\n",
       "    }\n",
       "</style>\n",
       "<table border=\"1\" class=\"dataframe\">\n",
       "  <thead>\n",
       "    <tr style=\"text-align: right;\">\n",
       "      <th></th>\n",
       "      <th>class</th>\n",
       "      <th>cap-shape</th>\n",
       "      <th>cap-surface</th>\n",
       "      <th>cap-color</th>\n",
       "      <th>bruises</th>\n",
       "      <th>odor</th>\n",
       "      <th>gill-attachment</th>\n",
       "      <th>gill-spacing</th>\n",
       "      <th>gill-size</th>\n",
       "      <th>gill-color</th>\n",
       "      <th>...</th>\n",
       "      <th>stalk-surface-below-ring</th>\n",
       "      <th>stalk-color-above-ring</th>\n",
       "      <th>stalk-color-below-ring</th>\n",
       "      <th>veil-type</th>\n",
       "      <th>veil-color</th>\n",
       "      <th>ring-number</th>\n",
       "      <th>ring-type</th>\n",
       "      <th>spore-print-color</th>\n",
       "      <th>population</th>\n",
       "      <th>habitat</th>\n",
       "    </tr>\n",
       "  </thead>\n",
       "  <tbody>\n",
       "    <tr>\n",
       "      <th>count</th>\n",
       "      <td>8124</td>\n",
       "      <td>8124</td>\n",
       "      <td>8124</td>\n",
       "      <td>8124</td>\n",
       "      <td>8124</td>\n",
       "      <td>8124</td>\n",
       "      <td>8124</td>\n",
       "      <td>8124</td>\n",
       "      <td>8124</td>\n",
       "      <td>8124</td>\n",
       "      <td>...</td>\n",
       "      <td>8124</td>\n",
       "      <td>8124</td>\n",
       "      <td>8124</td>\n",
       "      <td>8124</td>\n",
       "      <td>8124</td>\n",
       "      <td>8124</td>\n",
       "      <td>8124</td>\n",
       "      <td>8124</td>\n",
       "      <td>8124</td>\n",
       "      <td>8124</td>\n",
       "    </tr>\n",
       "    <tr>\n",
       "      <th>unique</th>\n",
       "      <td>2</td>\n",
       "      <td>6</td>\n",
       "      <td>4</td>\n",
       "      <td>10</td>\n",
       "      <td>2</td>\n",
       "      <td>9</td>\n",
       "      <td>2</td>\n",
       "      <td>2</td>\n",
       "      <td>2</td>\n",
       "      <td>12</td>\n",
       "      <td>...</td>\n",
       "      <td>4</td>\n",
       "      <td>9</td>\n",
       "      <td>9</td>\n",
       "      <td>1</td>\n",
       "      <td>4</td>\n",
       "      <td>3</td>\n",
       "      <td>5</td>\n",
       "      <td>9</td>\n",
       "      <td>6</td>\n",
       "      <td>7</td>\n",
       "    </tr>\n",
       "    <tr>\n",
       "      <th>top</th>\n",
       "      <td>e</td>\n",
       "      <td>x</td>\n",
       "      <td>y</td>\n",
       "      <td>n</td>\n",
       "      <td>f</td>\n",
       "      <td>n</td>\n",
       "      <td>f</td>\n",
       "      <td>c</td>\n",
       "      <td>b</td>\n",
       "      <td>b</td>\n",
       "      <td>...</td>\n",
       "      <td>s</td>\n",
       "      <td>w</td>\n",
       "      <td>w</td>\n",
       "      <td>p</td>\n",
       "      <td>w</td>\n",
       "      <td>o</td>\n",
       "      <td>p</td>\n",
       "      <td>w</td>\n",
       "      <td>v</td>\n",
       "      <td>d</td>\n",
       "    </tr>\n",
       "    <tr>\n",
       "      <th>freq</th>\n",
       "      <td>4208</td>\n",
       "      <td>3656</td>\n",
       "      <td>3244</td>\n",
       "      <td>2284</td>\n",
       "      <td>4748</td>\n",
       "      <td>3528</td>\n",
       "      <td>7914</td>\n",
       "      <td>6812</td>\n",
       "      <td>5612</td>\n",
       "      <td>1728</td>\n",
       "      <td>...</td>\n",
       "      <td>4936</td>\n",
       "      <td>4464</td>\n",
       "      <td>4384</td>\n",
       "      <td>8124</td>\n",
       "      <td>7924</td>\n",
       "      <td>7488</td>\n",
       "      <td>3968</td>\n",
       "      <td>2388</td>\n",
       "      <td>4040</td>\n",
       "      <td>3148</td>\n",
       "    </tr>\n",
       "  </tbody>\n",
       "</table>\n",
       "<p>4 rows × 23 columns</p>\n",
       "</div>"
      ],
      "text/plain": [
       "       class cap-shape cap-surface cap-color bruises  odor gill-attachment  \\\n",
       "count   8124      8124        8124      8124    8124  8124            8124   \n",
       "unique     2         6           4        10       2     9               2   \n",
       "top        e         x           y         n       f     n               f   \n",
       "freq    4208      3656        3244      2284    4748  3528            7914   \n",
       "\n",
       "       gill-spacing gill-size gill-color  ... stalk-surface-below-ring  \\\n",
       "count          8124      8124       8124  ...                     8124   \n",
       "unique            2         2         12  ...                        4   \n",
       "top               c         b          b  ...                        s   \n",
       "freq           6812      5612       1728  ...                     4936   \n",
       "\n",
       "       stalk-color-above-ring stalk-color-below-ring veil-type veil-color  \\\n",
       "count                    8124                   8124      8124       8124   \n",
       "unique                      9                      9         1          4   \n",
       "top                         w                      w         p          w   \n",
       "freq                     4464                   4384      8124       7924   \n",
       "\n",
       "       ring-number ring-type spore-print-color population habitat  \n",
       "count         8124      8124              8124       8124    8124  \n",
       "unique           3         5                 9          6       7  \n",
       "top              o         p                 w          v       d  \n",
       "freq          7488      3968              2388       4040    3148  \n",
       "\n",
       "[4 rows x 23 columns]"
      ]
     },
     "execution_count": 4,
     "metadata": {},
     "output_type": "execute_result"
    }
   ],
   "source": [
    "mushrooms.describe()"
   ]
  },
  {
   "cell_type": "code",
   "execution_count": 5,
   "id": "8baa2b6c",
   "metadata": {
    "execution": {
     "iopub.execute_input": "2023-06-26T11:40:11.026716Z",
     "iopub.status.busy": "2023-06-26T11:40:11.026211Z",
     "iopub.status.idle": "2023-06-26T11:40:11.034322Z",
     "shell.execute_reply": "2023-06-26T11:40:11.033079Z"
    },
    "papermill": {
     "duration": 0.022791,
     "end_time": "2023-06-26T11:40:11.037138",
     "exception": false,
     "start_time": "2023-06-26T11:40:11.014347",
     "status": "completed"
    },
    "tags": []
   },
   "outputs": [
    {
     "name": "stdout",
     "output_type": "stream",
     "text": [
      "0 class                       p\n",
      "cap-shape                   x\n",
      "cap-surface                 s\n",
      "cap-color                   n\n",
      "bruises                     t\n",
      "odor                        p\n",
      "gill-attachment             f\n",
      "gill-spacing                c\n",
      "gill-size                   n\n",
      "gill-color                  k\n",
      "stalk-shape                 e\n",
      "stalk-root                  e\n",
      "stalk-surface-above-ring    s\n",
      "stalk-surface-below-ring    s\n",
      "stalk-color-above-ring      w\n",
      "stalk-color-below-ring      w\n",
      "veil-type                   p\n",
      "veil-color                  w\n",
      "ring-number                 o\n",
      "ring-type                   p\n",
      "spore-print-color           k\n",
      "population                  s\n",
      "habitat                     u\n",
      "Name: 0, dtype: object\n"
     ]
    }
   ],
   "source": [
    "\n",
    "for index, row in mushrooms.iterrows():\n",
    "    print (index,row)\n",
    "    break"
   ]
  },
  {
   "cell_type": "code",
   "execution_count": 6,
   "id": "6faf70bf",
   "metadata": {
    "execution": {
     "iopub.execute_input": "2023-06-26T11:40:11.057005Z",
     "iopub.status.busy": "2023-06-26T11:40:11.056220Z",
     "iopub.status.idle": "2023-06-26T11:40:11.064562Z",
     "shell.execute_reply": "2023-06-26T11:40:11.063359Z"
    },
    "papermill": {
     "duration": 0.021293,
     "end_time": "2023-06-26T11:40:11.067387",
     "exception": false,
     "start_time": "2023-06-26T11:40:11.046094",
     "status": "completed"
    },
    "tags": []
   },
   "outputs": [
    {
     "name": "stdout",
     "output_type": "stream",
     "text": [
      "Pandas(Index=0, _1='p', _2='x', _3='s', _4='n', bruises='t', odor='p', _7='f', _8='c', _9='n', _10='k', _11='e', _12='e', _13='s', _14='s', _15='w', _16='w', _17='p', _18='w', _19='o', _20='p', _21='k', population='s', habitat='u')\n"
     ]
    }
   ],
   "source": [
    "for index in mushrooms.itertuples():\n",
    "    print (index)\n",
    "    break"
   ]
  },
  {
   "cell_type": "code",
   "execution_count": 7,
   "id": "5d5e4657",
   "metadata": {
    "execution": {
     "iopub.execute_input": "2023-06-26T11:40:11.087417Z",
     "iopub.status.busy": "2023-06-26T11:40:11.087040Z",
     "iopub.status.idle": "2023-06-26T11:40:11.096468Z",
     "shell.execute_reply": "2023-06-26T11:40:11.095101Z"
    },
    "papermill": {
     "duration": 0.022516,
     "end_time": "2023-06-26T11:40:11.099120",
     "exception": false,
     "start_time": "2023-06-26T11:40:11.076604",
     "status": "completed"
    },
    "tags": []
   },
   "outputs": [
    {
     "data": {
      "text/plain": [
       "0       u\n",
       "1       g\n",
       "2       m\n",
       "3       u\n",
       "4       g\n",
       "       ..\n",
       "8119    l\n",
       "8120    l\n",
       "8121    l\n",
       "8122    l\n",
       "8123    l\n",
       "Name: habitat, Length: 8124, dtype: object"
      ]
     },
     "execution_count": 7,
     "metadata": {},
     "output_type": "execute_result"
    }
   ],
   "source": [
    "\n",
    "\n",
    "mushrooms.pop('habitat')\n"
   ]
  },
  {
   "cell_type": "code",
   "execution_count": 8,
   "id": "17bc59d2",
   "metadata": {
    "execution": {
     "iopub.execute_input": "2023-06-26T11:40:11.119857Z",
     "iopub.status.busy": "2023-06-26T11:40:11.118782Z",
     "iopub.status.idle": "2023-06-26T11:40:11.126847Z",
     "shell.execute_reply": "2023-06-26T11:40:11.125658Z"
    },
    "papermill": {
     "duration": 0.021014,
     "end_time": "2023-06-26T11:40:11.129285",
     "exception": false,
     "start_time": "2023-06-26T11:40:11.108271",
     "status": "completed"
    },
    "tags": []
   },
   "outputs": [
    {
     "data": {
      "text/plain": [
       "'\\nmushrooms.get([\"temp_celsius\", \"temp_kelvin\"])\\nmushrooms.isin()\\nmushrooms.where()\\nmushrooms.mask()\\nmushrooms.query()\\nmushrooms.__add__\\nmushrooms.add(5)\\nmushrooms.sub(4)\\nmushrooms.mul(2)\\nmushrooms.div(3)\\nmushrooms.truediv(2)\\nmushrooms.floordiv(5)\\n\\n'"
      ]
     },
     "execution_count": 8,
     "metadata": {},
     "output_type": "execute_result"
    }
   ],
   "source": [
    "\n",
    "'''\n",
    "mushrooms.get([\"temp_celsius\", \"temp_kelvin\"])\n",
    "mushrooms.isin()\n",
    "mushrooms.where()\n",
    "mushrooms.mask()\n",
    "mushrooms.query()\n",
    "mushrooms.__add__\n",
    "mushrooms.add(5)\n",
    "mushrooms.sub(4)\n",
    "mushrooms.mul(2)\n",
    "mushrooms.div(3)\n",
    "mushrooms.truediv(2)\n",
    "mushrooms.floordiv(5)\n",
    "\n",
    "'''"
   ]
  },
  {
   "cell_type": "code",
   "execution_count": 9,
   "id": "083c0040",
   "metadata": {
    "execution": {
     "iopub.execute_input": "2023-06-26T11:40:11.149634Z",
     "iopub.status.busy": "2023-06-26T11:40:11.149235Z",
     "iopub.status.idle": "2023-06-26T11:40:11.178674Z",
     "shell.execute_reply": "2023-06-26T11:40:11.177471Z"
    },
    "papermill": {
     "duration": 0.042453,
     "end_time": "2023-06-26T11:40:11.181198",
     "exception": false,
     "start_time": "2023-06-26T11:40:11.138745",
     "status": "completed"
    },
    "tags": []
   },
   "outputs": [
    {
     "data": {
      "text/html": [
       "<div>\n",
       "<style scoped>\n",
       "    .dataframe tbody tr th:only-of-type {\n",
       "        vertical-align: middle;\n",
       "    }\n",
       "\n",
       "    .dataframe tbody tr th {\n",
       "        vertical-align: top;\n",
       "    }\n",
       "\n",
       "    .dataframe thead th {\n",
       "        text-align: right;\n",
       "    }\n",
       "</style>\n",
       "<table border=\"1\" class=\"dataframe\">\n",
       "  <thead>\n",
       "    <tr style=\"text-align: right;\">\n",
       "      <th></th>\n",
       "      <th>class</th>\n",
       "      <th>cap-shape</th>\n",
       "      <th>cap-surface</th>\n",
       "      <th>cap-color</th>\n",
       "      <th>bruises</th>\n",
       "      <th>odor</th>\n",
       "      <th>gill-attachment</th>\n",
       "      <th>gill-spacing</th>\n",
       "      <th>gill-size</th>\n",
       "      <th>gill-color</th>\n",
       "      <th>...</th>\n",
       "      <th>stalk-surface-above-ring</th>\n",
       "      <th>stalk-surface-below-ring</th>\n",
       "      <th>stalk-color-above-ring</th>\n",
       "      <th>stalk-color-below-ring</th>\n",
       "      <th>veil-type</th>\n",
       "      <th>veil-color</th>\n",
       "      <th>ring-number</th>\n",
       "      <th>ring-type</th>\n",
       "      <th>spore-print-color</th>\n",
       "      <th>population</th>\n",
       "    </tr>\n",
       "  </thead>\n",
       "  <tbody>\n",
       "    <tr>\n",
       "      <th>8119</th>\n",
       "      <td>e</td>\n",
       "      <td>k</td>\n",
       "      <td>s</td>\n",
       "      <td>n</td>\n",
       "      <td>f</td>\n",
       "      <td>n</td>\n",
       "      <td>a</td>\n",
       "      <td>c</td>\n",
       "      <td>b</td>\n",
       "      <td>y</td>\n",
       "      <td>...</td>\n",
       "      <td>s</td>\n",
       "      <td>s</td>\n",
       "      <td>o</td>\n",
       "      <td>o</td>\n",
       "      <td>p</td>\n",
       "      <td>o</td>\n",
       "      <td>o</td>\n",
       "      <td>p</td>\n",
       "      <td>b</td>\n",
       "      <td>c</td>\n",
       "    </tr>\n",
       "    <tr>\n",
       "      <th>8120</th>\n",
       "      <td>e</td>\n",
       "      <td>x</td>\n",
       "      <td>s</td>\n",
       "      <td>n</td>\n",
       "      <td>f</td>\n",
       "      <td>n</td>\n",
       "      <td>a</td>\n",
       "      <td>c</td>\n",
       "      <td>b</td>\n",
       "      <td>y</td>\n",
       "      <td>...</td>\n",
       "      <td>s</td>\n",
       "      <td>s</td>\n",
       "      <td>o</td>\n",
       "      <td>o</td>\n",
       "      <td>p</td>\n",
       "      <td>n</td>\n",
       "      <td>o</td>\n",
       "      <td>p</td>\n",
       "      <td>b</td>\n",
       "      <td>v</td>\n",
       "    </tr>\n",
       "    <tr>\n",
       "      <th>8121</th>\n",
       "      <td>e</td>\n",
       "      <td>f</td>\n",
       "      <td>s</td>\n",
       "      <td>n</td>\n",
       "      <td>f</td>\n",
       "      <td>n</td>\n",
       "      <td>a</td>\n",
       "      <td>c</td>\n",
       "      <td>b</td>\n",
       "      <td>n</td>\n",
       "      <td>...</td>\n",
       "      <td>s</td>\n",
       "      <td>s</td>\n",
       "      <td>o</td>\n",
       "      <td>o</td>\n",
       "      <td>p</td>\n",
       "      <td>o</td>\n",
       "      <td>o</td>\n",
       "      <td>p</td>\n",
       "      <td>b</td>\n",
       "      <td>c</td>\n",
       "    </tr>\n",
       "    <tr>\n",
       "      <th>8122</th>\n",
       "      <td>p</td>\n",
       "      <td>k</td>\n",
       "      <td>y</td>\n",
       "      <td>n</td>\n",
       "      <td>f</td>\n",
       "      <td>y</td>\n",
       "      <td>f</td>\n",
       "      <td>c</td>\n",
       "      <td>n</td>\n",
       "      <td>b</td>\n",
       "      <td>...</td>\n",
       "      <td>s</td>\n",
       "      <td>k</td>\n",
       "      <td>w</td>\n",
       "      <td>w</td>\n",
       "      <td>p</td>\n",
       "      <td>w</td>\n",
       "      <td>o</td>\n",
       "      <td>e</td>\n",
       "      <td>w</td>\n",
       "      <td>v</td>\n",
       "    </tr>\n",
       "    <tr>\n",
       "      <th>8123</th>\n",
       "      <td>e</td>\n",
       "      <td>x</td>\n",
       "      <td>s</td>\n",
       "      <td>n</td>\n",
       "      <td>f</td>\n",
       "      <td>n</td>\n",
       "      <td>a</td>\n",
       "      <td>c</td>\n",
       "      <td>b</td>\n",
       "      <td>y</td>\n",
       "      <td>...</td>\n",
       "      <td>s</td>\n",
       "      <td>s</td>\n",
       "      <td>o</td>\n",
       "      <td>o</td>\n",
       "      <td>p</td>\n",
       "      <td>o</td>\n",
       "      <td>o</td>\n",
       "      <td>p</td>\n",
       "      <td>o</td>\n",
       "      <td>c</td>\n",
       "    </tr>\n",
       "  </tbody>\n",
       "</table>\n",
       "<p>5 rows × 22 columns</p>\n",
       "</div>"
      ],
      "text/plain": [
       "     class cap-shape cap-surface cap-color bruises odor gill-attachment  \\\n",
       "8119     e         k           s         n       f    n               a   \n",
       "8120     e         x           s         n       f    n               a   \n",
       "8121     e         f           s         n       f    n               a   \n",
       "8122     p         k           y         n       f    y               f   \n",
       "8123     e         x           s         n       f    n               a   \n",
       "\n",
       "     gill-spacing gill-size gill-color  ... stalk-surface-above-ring  \\\n",
       "8119            c         b          y  ...                        s   \n",
       "8120            c         b          y  ...                        s   \n",
       "8121            c         b          n  ...                        s   \n",
       "8122            c         n          b  ...                        s   \n",
       "8123            c         b          y  ...                        s   \n",
       "\n",
       "     stalk-surface-below-ring stalk-color-above-ring stalk-color-below-ring  \\\n",
       "8119                        s                      o                      o   \n",
       "8120                        s                      o                      o   \n",
       "8121                        s                      o                      o   \n",
       "8122                        k                      w                      w   \n",
       "8123                        s                      o                      o   \n",
       "\n",
       "     veil-type veil-color ring-number ring-type spore-print-color population  \n",
       "8119         p          o           o         p                 b          c  \n",
       "8120         p          n           o         p                 b          v  \n",
       "8121         p          o           o         p                 b          c  \n",
       "8122         p          w           o         e                 w          v  \n",
       "8123         p          o           o         p                 o          c  \n",
       "\n",
       "[5 rows x 22 columns]"
      ]
     },
     "execution_count": 9,
     "metadata": {},
     "output_type": "execute_result"
    }
   ],
   "source": [
    "mushrooms.tail()"
   ]
  },
  {
   "cell_type": "code",
   "execution_count": 10,
   "id": "1bbbd7e3",
   "metadata": {
    "execution": {
     "iopub.execute_input": "2023-06-26T11:40:11.203407Z",
     "iopub.status.busy": "2023-06-26T11:40:11.202052Z",
     "iopub.status.idle": "2023-06-26T11:40:11.207329Z",
     "shell.execute_reply": "2023-06-26T11:40:11.206413Z"
    },
    "papermill": {
     "duration": 0.018745,
     "end_time": "2023-06-26T11:40:11.209813",
     "exception": false,
     "start_time": "2023-06-26T11:40:11.191068",
     "status": "completed"
    },
    "tags": []
   },
   "outputs": [],
   "source": [
    "#mushrooms.xs('bruises')"
   ]
  },
  {
   "cell_type": "code",
   "execution_count": 11,
   "id": "ab7e6b0d",
   "metadata": {
    "execution": {
     "iopub.execute_input": "2023-06-26T11:40:11.231604Z",
     "iopub.status.busy": "2023-06-26T11:40:11.231170Z",
     "iopub.status.idle": "2023-06-26T11:40:11.236380Z",
     "shell.execute_reply": "2023-06-26T11:40:11.235475Z"
    },
    "papermill": {
     "duration": 0.018899,
     "end_time": "2023-06-26T11:40:11.238781",
     "exception": false,
     "start_time": "2023-06-26T11:40:11.219882",
     "status": "completed"
    },
    "tags": []
   },
   "outputs": [],
   "source": [
    "class Node:\n",
    "    def __init__(self, key):\n",
    "        self.key = key\n",
    "        self.left = None\n",
    "        self.right = None"
   ]
  },
  {
   "cell_type": "code",
   "execution_count": 12,
   "id": "6253c6d6",
   "metadata": {
    "execution": {
     "iopub.execute_input": "2023-06-26T11:40:11.260234Z",
     "iopub.status.busy": "2023-06-26T11:40:11.259799Z",
     "iopub.status.idle": "2023-06-26T11:40:11.266645Z",
     "shell.execute_reply": "2023-06-26T11:40:11.265597Z"
    },
    "papermill": {
     "duration": 0.02024,
     "end_time": "2023-06-26T11:40:11.268984",
     "exception": false,
     "start_time": "2023-06-26T11:40:11.248744",
     "status": "completed"
    },
    "tags": []
   },
   "outputs": [],
   "source": [
    "def insert(node, key):\n",
    "    # If the tree is empty, return a new node\n",
    "    if node is None:\n",
    "        return Node(key)\n",
    "  \n",
    "    # Otherwise, recur down the tree\n",
    "    if key < node.key:\n",
    "        node.left = insert(node.left, key)\n",
    "    elif key > node.key:\n",
    "        node.right = insert(node.right, key)\n",
    "  \n",
    "    # Return the node pointer\n",
    "    return node"
   ]
  },
  {
   "cell_type": "code",
   "execution_count": 13,
   "id": "1d8cea25",
   "metadata": {
    "execution": {
     "iopub.execute_input": "2023-06-26T11:40:11.290464Z",
     "iopub.status.busy": "2023-06-26T11:40:11.290012Z",
     "iopub.status.idle": "2023-06-26T11:40:11.296253Z",
     "shell.execute_reply": "2023-06-26T11:40:11.295043Z"
    },
    "papermill": {
     "duration": 0.019821,
     "end_time": "2023-06-26T11:40:11.298737",
     "exception": false,
     "start_time": "2023-06-26T11:40:11.278916",
     "status": "completed"
    },
    "tags": []
   },
   "outputs": [],
   "source": [
    "def inorder(root):\n",
    "    if root is not None:\n",
    "        inorder(root.left)\n",
    "        print(root.key, end=\" \")\n",
    "        inorder(root.right)\n",
    "  "
   ]
  },
  {
   "cell_type": "code",
   "execution_count": 14,
   "id": "79764bcb",
   "metadata": {
    "execution": {
     "iopub.execute_input": "2023-06-26T11:40:11.320808Z",
     "iopub.status.busy": "2023-06-26T11:40:11.320374Z",
     "iopub.status.idle": "2023-06-26T11:40:11.325713Z",
     "shell.execute_reply": "2023-06-26T11:40:11.324312Z"
    },
    "papermill": {
     "duration": 0.019494,
     "end_time": "2023-06-26T11:40:11.328485",
     "exception": false,
     "start_time": "2023-06-26T11:40:11.308991",
     "status": "completed"
    },
    "tags": []
   },
   "outputs": [],
   "source": [
    "root = None"
   ]
  },
  {
   "cell_type": "code",
   "execution_count": 15,
   "id": "2a147c54",
   "metadata": {
    "execution": {
     "iopub.execute_input": "2023-06-26T11:40:11.349694Z",
     "iopub.status.busy": "2023-06-26T11:40:11.349283Z",
     "iopub.status.idle": "2023-06-26T11:40:11.354500Z",
     "shell.execute_reply": "2023-06-26T11:40:11.353241Z"
    },
    "papermill": {
     "duration": 0.018713,
     "end_time": "2023-06-26T11:40:11.357013",
     "exception": false,
     "start_time": "2023-06-26T11:40:11.338300",
     "status": "completed"
    },
    "tags": []
   },
   "outputs": [],
   "source": [
    "root = insert(root, 90)"
   ]
  },
  {
   "cell_type": "code",
   "execution_count": 16,
   "id": "343bf19e",
   "metadata": {
    "execution": {
     "iopub.execute_input": "2023-06-26T11:40:11.378404Z",
     "iopub.status.busy": "2023-06-26T11:40:11.378015Z",
     "iopub.status.idle": "2023-06-26T11:40:11.385293Z",
     "shell.execute_reply": "2023-06-26T11:40:11.384194Z"
    },
    "papermill": {
     "duration": 0.020795,
     "end_time": "2023-06-26T11:40:11.387782",
     "exception": false,
     "start_time": "2023-06-26T11:40:11.366987",
     "status": "completed"
    },
    "tags": []
   },
   "outputs": [
    {
     "data": {
      "text/plain": [
       "__main__.Node"
      ]
     },
     "execution_count": 16,
     "metadata": {},
     "output_type": "execute_result"
    }
   ],
   "source": [
    "type(root)"
   ]
  },
  {
   "cell_type": "code",
   "execution_count": 17,
   "id": "963351a3",
   "metadata": {
    "execution": {
     "iopub.execute_input": "2023-06-26T11:40:11.409261Z",
     "iopub.status.busy": "2023-06-26T11:40:11.408844Z",
     "iopub.status.idle": "2023-06-26T11:40:11.417023Z",
     "shell.execute_reply": "2023-06-26T11:40:11.415784Z"
    },
    "papermill": {
     "duration": 0.021867,
     "end_time": "2023-06-26T11:40:11.419704",
     "exception": false,
     "start_time": "2023-06-26T11:40:11.397837",
     "status": "completed"
    },
    "tags": []
   },
   "outputs": [
    {
     "data": {
      "text/plain": [
       "'\\nLet us create following BST\\n      50\\n   /       30      70\\n /  \\\\    /  20  40  60   80\\n\\nroot = None\\n\\n# Inserting value 50\\nroot = insert(root, 50)\\n\\n# Inserting value 30\\ninsert(root, 30)\\n\\n# Inserting value 20\\ninsert(root, 20)\\n\\n# Inserting value 40\\ninsert(root, 40)\\n\\n# Inserting value 70\\ninsert(root, 70)\\n\\n# Inserting value 60\\ninsert(root, 60)\\n\\n# Inserting value 80\\ninsert(root, 80)\\n\\n# Print the BST\\ninorder(root)\\n\\n'"
      ]
     },
     "execution_count": 17,
     "metadata": {},
     "output_type": "execute_result"
    }
   ],
   "source": [
    "\n",
    "\n",
    "\"\"\"\n",
    "Let us create following BST\n",
    "      50\n",
    "   /     \\\n",
    "  30      70\n",
    " /  \\    /  \\\n",
    "20  40  60   80\n",
    "\n",
    "root = None\n",
    "\n",
    "# Inserting value 50\n",
    "root = insert(root, 50)\n",
    "\n",
    "# Inserting value 30\n",
    "insert(root, 30)\n",
    "\n",
    "# Inserting value 20\n",
    "insert(root, 20)\n",
    "\n",
    "# Inserting value 40\n",
    "insert(root, 40)\n",
    "\n",
    "# Inserting value 70\n",
    "insert(root, 70)\n",
    "\n",
    "# Inserting value 60\n",
    "insert(root, 60)\n",
    "\n",
    "# Inserting value 80\n",
    "insert(root, 80)\n",
    "\n",
    "# Print the BST\n",
    "inorder(root)\n",
    "\n",
    "\"\"\""
   ]
  },
  {
   "cell_type": "code",
   "execution_count": 18,
   "id": "f81e3085",
   "metadata": {
    "execution": {
     "iopub.execute_input": "2023-06-26T11:40:11.442742Z",
     "iopub.status.busy": "2023-06-26T11:40:11.442329Z",
     "iopub.status.idle": "2023-06-26T11:40:11.449278Z",
     "shell.execute_reply": "2023-06-26T11:40:11.448082Z"
    },
    "papermill": {
     "duration": 0.021044,
     "end_time": "2023-06-26T11:40:11.451872",
     "exception": false,
     "start_time": "2023-06-26T11:40:11.430828",
     "status": "completed"
    },
    "tags": []
   },
   "outputs": [
    {
     "data": {
      "text/plain": [
       "<__main__.Node at 0x7ba5922c3490>"
      ]
     },
     "execution_count": 18,
     "metadata": {},
     "output_type": "execute_result"
    }
   ],
   "source": [
    "insert(root, 50)"
   ]
  },
  {
   "cell_type": "code",
   "execution_count": 19,
   "id": "57ea3002",
   "metadata": {
    "execution": {
     "iopub.execute_input": "2023-06-26T11:40:11.475295Z",
     "iopub.status.busy": "2023-06-26T11:40:11.474493Z",
     "iopub.status.idle": "2023-06-26T11:40:11.479452Z",
     "shell.execute_reply": "2023-06-26T11:40:11.478586Z"
    },
    "papermill": {
     "duration": 0.019977,
     "end_time": "2023-06-26T11:40:11.482188",
     "exception": false,
     "start_time": "2023-06-26T11:40:11.462211",
     "status": "completed"
    },
    "tags": []
   },
   "outputs": [
    {
     "name": "stdout",
     "output_type": "stream",
     "text": [
      "50 90 "
     ]
    }
   ],
   "source": [
    "inorder(root)"
   ]
  },
  {
   "cell_type": "code",
   "execution_count": 20,
   "id": "632ea5b1",
   "metadata": {
    "execution": {
     "iopub.execute_input": "2023-06-26T11:40:11.504825Z",
     "iopub.status.busy": "2023-06-26T11:40:11.504082Z",
     "iopub.status.idle": "2023-06-26T11:40:11.508201Z",
     "shell.execute_reply": "2023-06-26T11:40:11.507344Z"
    },
    "papermill": {
     "duration": 0.018112,
     "end_time": "2023-06-26T11:40:11.510509",
     "exception": false,
     "start_time": "2023-06-26T11:40:11.492397",
     "status": "completed"
    },
    "tags": []
   },
   "outputs": [],
   "source": [
    "#print(k)"
   ]
  },
  {
   "cell_type": "code",
   "execution_count": 21,
   "id": "a6ce6311",
   "metadata": {
    "execution": {
     "iopub.execute_input": "2023-06-26T11:40:11.533518Z",
     "iopub.status.busy": "2023-06-26T11:40:11.532737Z",
     "iopub.status.idle": "2023-06-26T11:40:11.538577Z",
     "shell.execute_reply": "2023-06-26T11:40:11.537762Z"
    },
    "papermill": {
     "duration": 0.01986,
     "end_time": "2023-06-26T11:40:11.540954",
     "exception": false,
     "start_time": "2023-06-26T11:40:11.521094",
     "status": "completed"
    },
    "tags": []
   },
   "outputs": [
    {
     "data": {
      "text/plain": [
       "<__main__.Node at 0x7ba5922c3490>"
      ]
     },
     "execution_count": 21,
     "metadata": {},
     "output_type": "execute_result"
    }
   ],
   "source": [
    "root"
   ]
  },
  {
   "cell_type": "code",
   "execution_count": null,
   "id": "ee825c61",
   "metadata": {
    "papermill": {
     "duration": 0.009998,
     "end_time": "2023-06-26T11:40:11.562915",
     "exception": false,
     "start_time": "2023-06-26T11:40:11.552917",
     "status": "completed"
    },
    "tags": []
   },
   "outputs": [],
   "source": []
  }
 ],
 "metadata": {
  "kernelspec": {
   "display_name": "Python 3",
   "language": "python",
   "name": "python3"
  },
  "language_info": {
   "codemirror_mode": {
    "name": "ipython",
    "version": 3
   },
   "file_extension": ".py",
   "mimetype": "text/x-python",
   "name": "python",
   "nbconvert_exporter": "python",
   "pygments_lexer": "ipython3",
   "version": "3.10.10"
  },
  "papermill": {
   "default_parameters": {},
   "duration": 15.916874,
   "end_time": "2023-06-26T11:40:12.495860",
   "environment_variables": {},
   "exception": null,
   "input_path": "__notebook__.ipynb",
   "output_path": "__notebook__.ipynb",
   "parameters": {},
   "start_time": "2023-06-26T11:39:56.578986",
   "version": "2.4.0"
  }
 },
 "nbformat": 4,
 "nbformat_minor": 5
}
