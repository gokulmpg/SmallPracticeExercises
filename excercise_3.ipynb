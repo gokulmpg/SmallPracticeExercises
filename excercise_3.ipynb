{
 "cells": [
  {
   "cell_type": "markdown",
   "id": "2137c601",
   "metadata": {},
   "source": [
    "## Name: Gokul P\n",
    "## Roll No: MS21W018\n",
    "### DATA WAREHOUSING AND DATA MINING\n",
    "### MS9431 (EMBA) 2022\n",
    "### TUTORIAL\n",
    "\n",
    "### EXERCISE 3"
   ]
  },
  {
   "cell_type": "markdown",
   "id": "1256b286",
   "metadata": {},
   "source": [
    "Exercise 1: Generating Random Numbers (1*1 = 1 Points)\n",
    "(Hint: See Readings->Software folder, Page 87 Chapter 4 of the Python Text Book uploaded)\n",
    "1. Use a R/ Python code to generate random numbers between given number limits.\n"
   ]
  },
  {
   "cell_type": "code",
   "execution_count": 1,
   "id": "8e9538ec",
   "metadata": {},
   "outputs": [
    {
     "data": {
      "text/plain": [
       "84"
      ]
     },
     "execution_count": 1,
     "metadata": {},
     "output_type": "execute_result"
    }
   ],
   "source": [
    "import random\n",
    "\n",
    "random_number = random.randint(1,100)\n",
    "random_number"
   ]
  },
  {
   "cell_type": "markdown",
   "id": "5c56a9e5",
   "metadata": {},
   "source": [
    "Exercise 2: Working with n dimensional arrays (1*1 = 1 Points)\n",
    "(Hint: See Readings->Software folder, page 88 Chapter 4 of the Python Text Book uploaded)\n",
    "1. Write a R/Python code to create and print 1, 2 and 3 dimensional arrays."
   ]
  },
  {
   "cell_type": "code",
   "execution_count": 2,
   "id": "8e4ab85b",
   "metadata": {},
   "outputs": [
    {
     "name": "stdout",
     "output_type": "stream",
     "text": [
      "[1 2 3 4]\n",
      "[['1' '2' '3' '4']\n",
      " ['india' 'australia' 'canada' 'srilanka']]\n",
      "[[['1' '2' '3' '4']\n",
      "  ['india' 'australia' 'canada' 'srilanka']]\n",
      "\n",
      " [['5' '6' '7' '8']\n",
      "  ['chennai' 'delhi' 'mumbai' 'bangalore']]]\n"
     ]
    }
   ],
   "source": [
    "import numpy as np\n",
    "oned_array = [1,2,3,4]\n",
    "twod_array = [[1,2,3,4],['india', 'australia','canada','srilanka']]\n",
    "threed_array = [[[1,2,3,4],['india', 'australia','canada','srilanka']],[[5,6,7,8],['chennai', 'delhi','mumbai','bangalore']]]\n",
    "x = np.array(oned_array)\n",
    "y = np.array(twod_array)\n",
    "z = np.array(threed_array)\n",
    "print(x)\n",
    "print(y)\n",
    "print(z)"
   ]
  },
  {
   "cell_type": "markdown",
   "id": "66dbe842",
   "metadata": {},
   "source": [
    "Exercise 3: Statistical Methods on n dimensional arrays (1*1 = 2 Points)\n",
    "(Hint: See Readings->Software folder, Page 111 Chapter 4 of the Python Text Book uploaded)\n",
    "1. Write a Python/R code to find the sum of the numbers in a 3-dimensional array."
   ]
  },
  {
   "cell_type": "code",
   "execution_count": 3,
   "id": "6c97adfd",
   "metadata": {},
   "outputs": [],
   "source": [
    "Three_darray = [[[1,2,3,4],[5,6,7,8]],[[11,12,13,14],[15,16,17,18]],[[21,22,23,24],[25,26,27,28]],[[31,32,33,34],[35,36,37,38]]]\n",
    "\n",
    "a = np.array(Three_darray)"
   ]
  },
  {
   "cell_type": "code",
   "execution_count": 4,
   "id": "f23ff77d",
   "metadata": {},
   "outputs": [
    {
     "data": {
      "text/plain": [
       "624"
      ]
     },
     "execution_count": 4,
     "metadata": {},
     "output_type": "execute_result"
    }
   ],
   "source": [
    "a.sum()"
   ]
  },
  {
   "cell_type": "markdown",
   "id": "8b363060",
   "metadata": {},
   "source": [
    "Exercise 4: Working with DataFrame (2*1 = 2 Points)\n",
    "(Hint: See Readings->Software folder, Page 129 Chapter 4 of the Python Text Book uploaded)\n",
    "1. Write a Python/R code to create a dataframe.\n",
    "2. Write a Python/ R code to drop a column in the dataframe created in the previous question"
   ]
  },
  {
   "cell_type": "code",
   "execution_count": 5,
   "id": "b0ff1e0e",
   "metadata": {},
   "outputs": [],
   "source": [
    "import pandas as pd\n",
    "dataframe = {'Name': ['Ram', 'irfan', 'Joseph', 'suhail'], 'Age': [20, 45, 19, 32], 'country': ['india', 'pakistan', 'burma', 'afganistan'], 'city': ['chennai', 'lahore', 'Naypyidaw', 'kabul']} \n",
    "b = pd.DataFrame(dataframe)\n"
   ]
  },
  {
   "cell_type": "code",
   "execution_count": 6,
   "id": "9e42edbb",
   "metadata": {},
   "outputs": [
    {
     "name": "stdout",
     "output_type": "stream",
     "text": [
      "     Name  Age     country       city\n",
      "0     Ram   20       india    chennai\n",
      "1   irfan   45    pakistan     lahore\n",
      "2  Joseph   19       burma  Naypyidaw\n",
      "3  suhail   32  afganistan      kabul\n"
     ]
    }
   ],
   "source": [
    "print(b)"
   ]
  },
  {
   "cell_type": "code",
   "execution_count": 7,
   "id": "162f9368",
   "metadata": {},
   "outputs": [],
   "source": [
    "b.drop(['city'], axis='columns', inplace=True)"
   ]
  },
  {
   "cell_type": "code",
   "execution_count": 8,
   "id": "47dd5158",
   "metadata": {},
   "outputs": [
    {
     "name": "stdout",
     "output_type": "stream",
     "text": [
      "     Name  Age     country\n",
      "0     Ram   20       india\n",
      "1   irfan   45    pakistan\n",
      "2  Joseph   19       burma\n",
      "3  suhail   32  afganistan\n"
     ]
    }
   ],
   "source": [
    "print(b)"
   ]
  },
  {
   "cell_type": "code",
   "execution_count": null,
   "id": "d3d8eaf7",
   "metadata": {},
   "outputs": [],
   "source": []
  }
 ],
 "metadata": {
  "kernelspec": {
   "display_name": "Python 3",
   "language": "python",
   "name": "python3"
  },
  "language_info": {
   "codemirror_mode": {
    "name": "ipython",
    "version": 3
   },
   "file_extension": ".py",
   "mimetype": "text/x-python",
   "name": "python",
   "nbconvert_exporter": "python",
   "pygments_lexer": "ipython3",
   "version": "3.8.8"
  }
 },
 "nbformat": 4,
 "nbformat_minor": 5
}
